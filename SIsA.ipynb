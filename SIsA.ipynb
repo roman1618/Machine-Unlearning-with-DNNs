{
 "cells": [
  {
   "cell_type": "markdown",
   "metadata": {},
   "source": [
    "### 🎯 SIsA en ResNet18\n",
    "Entrenamos un modelo ResNet18 con CIFAR-10 empleando SIsA. Vamos a estudiar como afecta la division del modelo en su exactitud, y la eficiencia del desaprendizaje."
   ]
  },
  {
   "cell_type": "code",
   "execution_count": 3,
   "metadata": {},
   "outputs": [
    {
     "name": "stdout",
     "output_type": "stream",
     "text": [
      "Using TensorFlow backend\n"
     ]
    }
   ],
   "source": [
    "import os\n",
    "import warnings\n",
    "import numpy as np\n",
    "import pandas as pd\n",
    "from tqdm import tqdm\n",
    "from matplotlib import pyplot as plt\n",
    "from sklearn import linear_model, model_selection\n",
    "\n",
    "# Suppress warnings and TensorFlow logs\n",
    "warnings.simplefilter(action=\"ignore\")\n",
    "os.environ[\"TF_CPP_MIN_LOG_LEVEL\"] = \"3\"\n",
    "\n",
    "import tensorflow as tf\n",
    "from tensorflow import keras\n",
    "from tensorflow.keras import layers, losses, optimizers, metrics\n",
    "from tensorflow.keras.utils import split_dataset\n",
    "from tensorflow.python.client import device_lib\n",
    "\n",
    "import keras_cv as kcv\n",
    "from keras_cv import visualization\n",
    "from keras_cv.models import ResNet18Backbone"
   ]
  },
  {
   "cell_type": "code",
   "execution_count": null,
   "metadata": {},
   "outputs": [],
   "source": [
    "def set_device(mixed_precision=True, set_jit=False):\n",
    "    # printed out the detected devices\n",
    "    list_ld = device_lib.list_local_devices()\n",
    "    for dev in list_ld:\n",
    "        print(dev.name,dev.memory_limit)\n",
    "\n",
    "    # get the lisf of physical devices\n",
    "    physical_devices = tf.config.list_physical_devices(\n",
    "        'GPU' if len(list_ld) - 1 else 'CPU'\n",
    "    )\n",
    "    # For GPU devices, configure related stuff\n",
    "    if 'GPU' in physical_devices[-1]:\n",
    "        tf.config.optimizer.set_jit(set_jit)\n",
    "        if mixed_precision:\n",
    "            keras.mixed_precision.set_global_policy(\n",
    "                \"mixed_float16\"\n",
    "            )\n",
    "        else:\n",
    "            keras.mixed_precision.set_global_policy(\n",
    "                keras.backend.floatx()\n",
    "            )\n",
    "        for pd in physical_devices:\n",
    "            tf.config.experimental.set_memory_growth(\n",
    "                pd, True\n",
    "            )\n",
    "    strategy = tf.distribute.MirroredStrategy()\n",
    "    return (strategy, physical_devices)"
   ]
  },
  {
   "cell_type": "code",
   "execution_count": null,
   "metadata": {},
   "outputs": [],
   "source": [
    "strategy, physical_devices = set_device(mixed_precision=True, set_jit=True)\n",
    "physical_devices, strategy, tf.__version__"
   ]
  },
  {
   "cell_type": "markdown",
   "metadata": {},
   "source": [
    "___\n",
    "Descargamos y preparamos los datos de CIFAR-10."
   ]
  },
  {
   "cell_type": "code",
   "execution_count": 4,
   "metadata": {},
   "outputs": [],
   "source": [
    "AUTOTUNE = tf.data.AUTOTUNE\n",
    "BATCH_SIZE = 128\n",
    "\n",
    "(x_train, y_train), held_out = keras.datasets.cifar10.load_data()\n",
    "test_set, val_set = split_dataset(held_out, left_size=0.2)"
   ]
  },
  {
   "cell_type": "code",
   "execution_count": 5,
   "metadata": {},
   "outputs": [],
   "source": [
    "def normalize(image, label, denorm=False):\n",
    "    rescale = keras.layers.Rescaling(scale=1./255.)\n",
    "    norms = keras.layers.Normalization(\n",
    "        mean=[0.4914, 0.4822, 0.4465],\n",
    "        variance=[np.square(0.2023), np.square(0.1994), np.square(0.2010)],\n",
    "        invert=denorm,\n",
    "        axis=-1,\n",
    "    )\n",
    "\n",
    "    if not denorm:\n",
    "        image = rescale(image)\n",
    "    return norms(image), label"
   ]
  },
  {
   "cell_type": "code",
   "execution_count": 26,
   "metadata": {},
   "outputs": [],
   "source": [
    "train_ds = tf.data.Dataset.from_tensor_slices((x_train, y_train))\n",
    "\n",
    "val_ds = val_set.map(normalize).batch(BATCH_SIZE).prefetch(AUTOTUNE)\n",
    "test_ds = test_set.map(normalize).batch(BATCH_SIZE).prefetch(AUTOTUNE)"
   ]
  },
  {
   "cell_type": "code",
   "execution_count": 8,
   "metadata": {},
   "outputs": [],
   "source": [
    "# Esta función divide el conjunto de datos 'ds' en 'S' trozos de igua tamaño\n",
    "\n",
    "def slice_ds(ds, S):\n",
    "    sliced_datasets=[]\n",
    "    for s in range(S-1):\n",
    "        split1, split2 = split_dataset(ds, left_size=1/(S-s),seed=0)\n",
    "        sliced_datasets.append(split1)\n",
    "        ds=split2\n",
    "        print('Split ', s+1, '/', S-1, ' done')\n",
    "    sliced_datasets.append(split2)\n",
    "\n",
    "    return sliced_datasets"
   ]
  },
  {
   "cell_type": "code",
   "execution_count": 19,
   "metadata": {},
   "outputs": [
    {
     "name": "stdout",
     "output_type": "stream",
     "text": [
      "Split  1 / 15  done\n",
      "Split  2 / 15  done\n",
      "Split  3 / 15  done\n",
      "Split  4 / 15  done\n",
      "Split  5 / 15  done\n",
      "Split  6 / 15  done\n",
      "Split  7 / 15  done\n",
      "Split  8 / 15  done\n",
      "Split  9 / 15  done\n",
      "Split  10 / 15  done\n",
      "Split  11 / 15  done\n",
      "Split  12 / 15  done\n",
      "Split  13 / 15  done\n",
      "Split  14 / 15  done\n",
      "Split  15 / 15  done\n",
      "25\n",
      "25\n",
      "25\n",
      "25\n",
      "25\n",
      "25\n",
      "25\n",
      "25\n",
      "25\n",
      "25\n",
      "25\n",
      "25\n",
      "25\n",
      "25\n",
      "25\n",
      "25\n"
     ]
    }
   ],
   "source": [
    "Slices=16\n",
    "\n",
    "train_ds = tf.data.Dataset.from_tensor_slices((x_train, y_train))\n",
    "sliced_datasets=slice_ds(train_ds, Slices)\n",
    "\n",
    "for i in range(len(sliced_datasets)):\n",
    "    sliced_datasets[i] = sliced_datasets[i].map(normalize)\n",
    "    sliced_datasets[i] = sliced_datasets[i].shuffle(buffer_size=8*BATCH_SIZE)\n",
    "    sliced_datasets[i] = sliced_datasets[i].batch(BATCH_SIZE).prefetch(AUTOTUNE)\n",
    "    print(int(sliced_datasets[i].cardinality()))"
   ]
  },
  {
   "cell_type": "markdown",
   "metadata": {},
   "source": [
    "___\n",
    "Preparamos y entrenamos los distintos modelos ResNet18, y creamos el modelo de ensamblado"
   ]
  },
  {
   "cell_type": "code",
   "execution_count": 9,
   "metadata": {},
   "outputs": [],
   "source": [
    "def get_model():\n",
    "    with strategy.scope():\n",
    "        model = keras.Sequential(\n",
    "            [\n",
    "                ResNet18Backbone(include_rescaling=False, input_shape=(32, 32, 3)),\n",
    "                keras.layers.GlobalMaxPooling2D(),\n",
    "                keras.layers.Dense(10, activation=\"softmax\", dtype=tf.float32),\n",
    "            ]\n",
    "        )\n",
    "        model.compile(\n",
    "            optimizer='adam',\n",
    "            loss='sparse_categorical_crossentropy',\n",
    "            metrics=metrics.SparseCategoricalAccuracy(name='accuracy'),\n",
    "            jit_compile=True\n",
    "        )\n",
    "\n",
    "    return model"
   ]
  },
  {
   "cell_type": "code",
   "execution_count": null,
   "metadata": {},
   "outputs": [],
   "source": [
    "models = []\n",
    "history = [s for s in range(Slices)]\n",
    "\n",
    "for s in range(Slices):\n",
    "    model = get_model()\n",
    "    models.append(model)\n",
    "    \n",
    "    history[s] = model.fit(sliced_datasets[s], validation_data=val_ds, epochs=20)\n",
    "\n",
    "    model.save('sliced_models/slice_'+str(Slices)+'_'+str(s)+'.keras', save_format=\"keras_v3\")"
   ]
  },
  {
   "cell_type": "code",
   "execution_count": null,
   "metadata": {},
   "outputs": [],
   "source": [
    "# Análisis de la exactitud de los modelos en el conjunto de datos de entrenamiento\n",
    "\n",
    "for s in range(Slices):\n",
    "    model = models[s]\n",
    "    print(f\"Train set accuracy: {100.0 * model.evaluate(sliced_datasets[s])[-1]:0.1f}%%\")\n",
    "    print(f\"Test set accuracy: {100.0 * model.evaluate(test_ds)[-1]:0.1f}%%\")"
   ]
  },
  {
   "cell_type": "code",
   "execution_count": 30,
   "metadata": {},
   "outputs": [],
   "source": [
    "# Ensamblado de los 'S' modelos en uno, cuyo output es la media de los todos\n",
    "\n",
    "model_input = tf.keras.Input(shape=(32, 32, 3))\n",
    "model_outputs = [model(model_input) for model in models]\n",
    "ensemble_output = tf.keras.layers.Average()(model_outputs)\n",
    "ensemble_model = tf.keras.Model(inputs=model_input, outputs=ensemble_output)\n",
    "\n",
    "ensemble_model.compile(\n",
    "            optimizer='adam',\n",
    "            loss='sparse_categorical_crossentropy',\n",
    "            metrics=metrics.SparseCategoricalAccuracy(name='accuracy'),\n",
    "            jit_compile=True\n",
    "        )\n",
    "\n",
    "ensemble_model.save('ensembles/ensemble_'+str(Slices)+'.keras')"
   ]
  },
  {
   "cell_type": "code",
   "execution_count": null,
   "metadata": {},
   "outputs": [],
   "source": [
    "# Análisis de la exactitud en el conjunto de datos de entrenamiento\n",
    "\n",
    "train_ds = tf.data.Dataset.from_tensor_slices((x_train, y_train))\n",
    "train_ds = train_ds.map(normalize)\n",
    "train_ds = train_ds.shuffle(buffer_size=8*BATCH_SIZE)\n",
    "train_ds = train_ds.batch(BATCH_SIZE).prefetch(AUTOTUNE)\n",
    "\n",
    "print(f\"Train set accuracy: {100.0 * ensemble_model.evaluate(train_ds)[-1]:0.1f}%\")\n",
    "print(f\"Test set accuracy: {100.0 * ensemble_model.evaluate(test_ds)[-1]:0.1f}%\")"
   ]
  },
  {
   "cell_type": "markdown",
   "metadata": {},
   "source": [
    "___\n",
    "Comprobamos la efectividad de un MIA en el modelo de ensamblado."
   ]
  },
  {
   "cell_type": "code",
   "execution_count": 11,
   "metadata": {},
   "outputs": [],
   "source": [
    "def compute_losses(net, loader):\n",
    "    \"\"\"Auxiliary function to compute per-sample losses\"\"\"\n",
    "\n",
    "    loss_fn = keras.losses.SparseCategoricalCrossentropy(\n",
    "        reduction=\"none\"\n",
    "    )\n",
    "    all_losses = []\n",
    "\n",
    "    for inputs, targets in tqdm(loader):\n",
    "        logits = net(inputs, training=False)\n",
    "        losses = loss_fn(targets, logits).numpy()\n",
    "        for l in losses:\n",
    "            all_losses.append(l)\n",
    "\n",
    "    return np.array(all_losses)"
   ]
  },
  {
   "cell_type": "code",
   "execution_count": 12,
   "metadata": {},
   "outputs": [],
   "source": [
    "def simple_mia(sample_loss, members, n_splits=10, random_state=0):\n",
    "    \"\"\"Computes cross-validation score of a membership inference attack.\n",
    "\n",
    "    Args:\n",
    "      sample_loss : array_like of shape (n,).\n",
    "        objective function evaluated on n samples.\n",
    "      members : array_like of shape (n,),\n",
    "        whether a sample was used for training.\n",
    "      n_splits: int\n",
    "        number of splits to use in the cross-validation.\n",
    "    Returns:\n",
    "      scores : array_like of size (n_splits,)\n",
    "    \"\"\"\n",
    "\n",
    "    unique_members = np.unique(members)\n",
    "    if not np.all(unique_members == np.array([0, 1])):\n",
    "        raise ValueError(\"members should only have 0 and 1s\")\n",
    "\n",
    "    attack_model = linear_model.LogisticRegression()\n",
    "    cv = model_selection.StratifiedShuffleSplit(\n",
    "        n_splits=n_splits, random_state=random_state\n",
    "    )\n",
    "    return model_selection.cross_val_score(\n",
    "        attack_model, sample_loss, members, cv=cv, scoring=\"accuracy\"\n",
    "    )"
   ]
  },
  {
   "cell_type": "code",
   "execution_count": 14,
   "metadata": {},
   "outputs": [
    {
     "name": "stdout",
     "output_type": "stream",
     "text": [
      "A olvidar: 5000 , a retener: 45000\n"
     ]
    }
   ],
   "source": [
    "# ! Preprocesar 'train_ds' antes de obtener los conjutos a olvidar y retener\n",
    "\n",
    "forget_set, retain_set = keras.utils.split_dataset(train_ds.unbatch(), left_size=0.1)\n",
    "forget_ds = forget_set.batch(BATCH_SIZE).prefetch(AUTOTUNE)\n",
    "retain_ds = retain_set.batch(BATCH_SIZE).prefetch(AUTOTUNE)\n",
    "print('A olvidar:', int(forget_set.cardinality()),', a retener:', int(retain_set.cardinality()))"
   ]
  },
  {
   "cell_type": "code",
   "execution_count": null,
   "metadata": {},
   "outputs": [],
   "source": [
    "forget_losses = compute_losses(ensemble_model, forget_ds)\n",
    "test_losses = compute_losses(ensemble_model, test_ds)\n",
    "\n",
    "# Since we have more forget losses than test losses, sub-sample them, to have a class-balanced dataset.\n",
    "np.random.shuffle(forget_losses)\n",
    "forget_losses = forget_losses[:len(test_losses)]\n",
    "\n",
    "samples_mia = np.concatenate((test_losses, forget_losses)).reshape((-1, 1))\n",
    "labels_mia = [0] * len(test_losses) + [1] * len(forget_losses)\n",
    "\n",
    "mia_scores = simple_mia(samples_mia, labels_mia)\n",
    "\n",
    "print(\n",
    "    f\"The MIA attack has an accuracy of {mia_scores.mean():.3f} on forgotten vs unseen images\"\n",
    ")"
   ]
  },
  {
   "cell_type": "markdown",
   "metadata": {},
   "source": [
    "___\n",
    "Gráfica de exactitud y efectividad del MIA frente a S."
   ]
  },
  {
   "cell_type": "code",
   "execution_count": 17,
   "metadata": {},
   "outputs": [],
   "source": [
    "slices=[2,3,4,8,16]\n",
    "accuracy_train=[0,0,0,0,0]\n",
    "accuracy_test=[0,0,0,0,0]\n",
    "mia_score=[0,0,0,0,0]"
   ]
  },
  {
   "cell_type": "code",
   "execution_count": null,
   "metadata": {},
   "outputs": [],
   "source": [
    "ensemble_models=[]\n",
    "for S in slices:\n",
    "    e_model = keras.saving.load_model('ensembles/ensemble_'+str(S)+'.keras')\n",
    "    ensemble_models.append(e_model)\n",
    "    print('Ensemble model with', S, 'slices loaded')"
   ]
  },
  {
   "cell_type": "code",
   "execution_count": 31,
   "metadata": {},
   "outputs": [
    {
     "name": "stdout",
     "output_type": "stream",
     "text": [
      "model\n"
     ]
    },
    {
     "name": "stderr",
     "output_type": "stream",
     "text": [
      "100%|██████████| 40/40 [00:38<00:00,  1.04it/s]\n",
      "100%|██████████| 16/16 [00:14<00:00,  1.10it/s]\n"
     ]
    },
    {
     "name": "stdout",
     "output_type": "stream",
     "text": [
      "The MIA attack has an accuracy of 0.527 on forgotten vs unseen images\n",
      "INFO:tensorflow:Collective all_reduce tensors: 1 all_reduces, num_devices = 1, group_size = 1, implementation = CommunicationImplementation.NCCL, num_packs = 1\n",
      "INFO:tensorflow:Collective all_reduce tensors: 1 all_reduces, num_devices = 1, group_size = 1, implementation = CommunicationImplementation.NCCL, num_packs = 1\n",
      "INFO:tensorflow:Collective all_reduce tensors: 1 all_reduces, num_devices = 1, group_size = 1, implementation = CommunicationImplementation.NCCL, num_packs = 1\n",
      "INFO:tensorflow:Collective all_reduce tensors: 1 all_reduces, num_devices = 1, group_size = 1, implementation = CommunicationImplementation.NCCL, num_packs = 1\n",
      "INFO:tensorflow:Collective all_reduce tensors: 1 all_reduces, num_devices = 1, group_size = 1, implementation = CommunicationImplementation.NCCL, num_packs = 1\n",
      "INFO:tensorflow:Collective all_reduce tensors: 1 all_reduces, num_devices = 1, group_size = 1, implementation = CommunicationImplementation.NCCL, num_packs = 1\n",
      "INFO:tensorflow:Collective all_reduce tensors: 1 all_reduces, num_devices = 1, group_size = 1, implementation = CommunicationImplementation.NCCL, num_packs = 1\n",
      "INFO:tensorflow:Collective all_reduce tensors: 1 all_reduces, num_devices = 1, group_size = 1, implementation = CommunicationImplementation.NCCL, num_packs = 1\n",
      "INFO:tensorflow:Collective all_reduce tensors: 1 all_reduces, num_devices = 1, group_size = 1, implementation = CommunicationImplementation.NCCL, num_packs = 1\n",
      "INFO:tensorflow:Collective all_reduce tensors: 1 all_reduces, num_devices = 1, group_size = 1, implementation = CommunicationImplementation.NCCL, num_packs = 1\n",
      "INFO:tensorflow:Collective all_reduce tensors: 1 all_reduces, num_devices = 1, group_size = 1, implementation = CommunicationImplementation.NCCL, num_packs = 1\n",
      "INFO:tensorflow:Collective all_reduce tensors: 1 all_reduces, num_devices = 1, group_size = 1, implementation = CommunicationImplementation.NCCL, num_packs = 1\n",
      "INFO:tensorflow:Collective all_reduce tensors: 1 all_reduces, num_devices = 1, group_size = 1, implementation = CommunicationImplementation.NCCL, num_packs = 1\n",
      "INFO:tensorflow:Collective all_reduce tensors: 1 all_reduces, num_devices = 1, group_size = 1, implementation = CommunicationImplementation.NCCL, num_packs = 1\n",
      "INFO:tensorflow:Collective all_reduce tensors: 1 all_reduces, num_devices = 1, group_size = 1, implementation = CommunicationImplementation.NCCL, num_packs = 1\n",
      "INFO:tensorflow:Collective all_reduce tensors: 1 all_reduces, num_devices = 1, group_size = 1, implementation = CommunicationImplementation.NCCL, num_packs = 1\n",
      "INFO:tensorflow:Collective all_reduce tensors: 1 all_reduces, num_devices = 1, group_size = 1, implementation = CommunicationImplementation.NCCL, num_packs = 1\n",
      "INFO:tensorflow:Collective all_reduce tensors: 1 all_reduces, num_devices = 1, group_size = 1, implementation = CommunicationImplementation.NCCL, num_packs = 1\n",
      "INFO:tensorflow:Collective all_reduce tensors: 1 all_reduces, num_devices = 1, group_size = 1, implementation = CommunicationImplementation.NCCL, num_packs = 1\n",
      "INFO:tensorflow:Collective all_reduce tensors: 1 all_reduces, num_devices = 1, group_size = 1, implementation = CommunicationImplementation.NCCL, num_packs = 1\n",
      "INFO:tensorflow:Collective all_reduce tensors: 1 all_reduces, num_devices = 1, group_size = 1, implementation = CommunicationImplementation.NCCL, num_packs = 1\n",
      "INFO:tensorflow:Collective all_reduce tensors: 1 all_reduces, num_devices = 1, group_size = 1, implementation = CommunicationImplementation.NCCL, num_packs = 1\n",
      "INFO:tensorflow:Collective all_reduce tensors: 1 all_reduces, num_devices = 1, group_size = 1, implementation = CommunicationImplementation.NCCL, num_packs = 1\n",
      "INFO:tensorflow:Collective all_reduce tensors: 1 all_reduces, num_devices = 1, group_size = 1, implementation = CommunicationImplementation.NCCL, num_packs = 1\n",
      "INFO:tensorflow:Collective all_reduce tensors: 1 all_reduces, num_devices = 1, group_size = 1, implementation = CommunicationImplementation.NCCL, num_packs = 1\n",
      "INFO:tensorflow:Collective all_reduce tensors: 1 all_reduces, num_devices = 1, group_size = 1, implementation = CommunicationImplementation.NCCL, num_packs = 1\n",
      "INFO:tensorflow:Collective all_reduce tensors: 1 all_reduces, num_devices = 1, group_size = 1, implementation = CommunicationImplementation.NCCL, num_packs = 1\n",
      "INFO:tensorflow:Collective all_reduce tensors: 1 all_reduces, num_devices = 1, group_size = 1, implementation = CommunicationImplementation.NCCL, num_packs = 1\n",
      "INFO:tensorflow:Collective all_reduce tensors: 1 all_reduces, num_devices = 1, group_size = 1, implementation = CommunicationImplementation.NCCL, num_packs = 1\n",
      "INFO:tensorflow:Collective all_reduce tensors: 1 all_reduces, num_devices = 1, group_size = 1, implementation = CommunicationImplementation.NCCL, num_packs = 1\n",
      "INFO:tensorflow:Collective all_reduce tensors: 1 all_reduces, num_devices = 1, group_size = 1, implementation = CommunicationImplementation.NCCL, num_packs = 1\n",
      "INFO:tensorflow:Collective all_reduce tensors: 1 all_reduces, num_devices = 1, group_size = 1, implementation = CommunicationImplementation.NCCL, num_packs = 1\n",
      "INFO:tensorflow:Collective all_reduce tensors: 1 all_reduces, num_devices = 1, group_size = 1, implementation = CommunicationImplementation.NCCL, num_packs = 1\n",
      "INFO:tensorflow:Collective all_reduce tensors: 1 all_reduces, num_devices = 1, group_size = 1, implementation = CommunicationImplementation.NCCL, num_packs = 1\n",
      "INFO:tensorflow:Collective all_reduce tensors: 1 all_reduces, num_devices = 1, group_size = 1, implementation = CommunicationImplementation.NCCL, num_packs = 1\n",
      "INFO:tensorflow:Collective all_reduce tensors: 1 all_reduces, num_devices = 1, group_size = 1, implementation = CommunicationImplementation.NCCL, num_packs = 1\n",
      "INFO:tensorflow:Collective all_reduce tensors: 1 all_reduces, num_devices = 1, group_size = 1, implementation = CommunicationImplementation.NCCL, num_packs = 1\n",
      "INFO:tensorflow:Collective all_reduce tensors: 1 all_reduces, num_devices = 1, group_size = 1, implementation = CommunicationImplementation.NCCL, num_packs = 1\n",
      "INFO:tensorflow:Collective all_reduce tensors: 1 all_reduces, num_devices = 1, group_size = 1, implementation = CommunicationImplementation.NCCL, num_packs = 1\n",
      "INFO:tensorflow:Collective all_reduce tensors: 1 all_reduces, num_devices = 1, group_size = 1, implementation = CommunicationImplementation.NCCL, num_packs = 1\n",
      "INFO:tensorflow:Collective all_reduce tensors: 1 all_reduces, num_devices = 1, group_size = 1, implementation = CommunicationImplementation.NCCL, num_packs = 1\n",
      "INFO:tensorflow:Collective all_reduce tensors: 1 all_reduces, num_devices = 1, group_size = 1, implementation = CommunicationImplementation.NCCL, num_packs = 1\n",
      "INFO:tensorflow:Collective all_reduce tensors: 1 all_reduces, num_devices = 1, group_size = 1, implementation = CommunicationImplementation.NCCL, num_packs = 1\n",
      "INFO:tensorflow:Collective all_reduce tensors: 1 all_reduces, num_devices = 1, group_size = 1, implementation = CommunicationImplementation.NCCL, num_packs = 1\n",
      "INFO:tensorflow:Collective all_reduce tensors: 1 all_reduces, num_devices = 1, group_size = 1, implementation = CommunicationImplementation.NCCL, num_packs = 1\n",
      "INFO:tensorflow:Collective all_reduce tensors: 1 all_reduces, num_devices = 1, group_size = 1, implementation = CommunicationImplementation.NCCL, num_packs = 1\n",
      "INFO:tensorflow:Collective all_reduce tensors: 1 all_reduces, num_devices = 1, group_size = 1, implementation = CommunicationImplementation.NCCL, num_packs = 1\n",
      "INFO:tensorflow:Collective all_reduce tensors: 1 all_reduces, num_devices = 1, group_size = 1, implementation = CommunicationImplementation.NCCL, num_packs = 1\n",
      "INFO:tensorflow:Collective all_reduce tensors: 1 all_reduces, num_devices = 1, group_size = 1, implementation = CommunicationImplementation.NCCL, num_packs = 1\n",
      "INFO:tensorflow:Collective all_reduce tensors: 1 all_reduces, num_devices = 1, group_size = 1, implementation = CommunicationImplementation.NCCL, num_packs = 1\n",
      "INFO:tensorflow:Collective all_reduce tensors: 1 all_reduces, num_devices = 1, group_size = 1, implementation = CommunicationImplementation.NCCL, num_packs = 1\n",
      "INFO:tensorflow:Collective all_reduce tensors: 1 all_reduces, num_devices = 1, group_size = 1, implementation = CommunicationImplementation.NCCL, num_packs = 1\n",
      "INFO:tensorflow:Collective all_reduce tensors: 1 all_reduces, num_devices = 1, group_size = 1, implementation = CommunicationImplementation.NCCL, num_packs = 1\n",
      "INFO:tensorflow:Collective all_reduce tensors: 1 all_reduces, num_devices = 1, group_size = 1, implementation = CommunicationImplementation.NCCL, num_packs = 1\n",
      "INFO:tensorflow:Collective all_reduce tensors: 1 all_reduces, num_devices = 1, group_size = 1, implementation = CommunicationImplementation.NCCL, num_packs = 1\n",
      "INFO:tensorflow:Collective all_reduce tensors: 1 all_reduces, num_devices = 1, group_size = 1, implementation = CommunicationImplementation.NCCL, num_packs = 1\n",
      "INFO:tensorflow:Collective all_reduce tensors: 1 all_reduces, num_devices = 1, group_size = 1, implementation = CommunicationImplementation.NCCL, num_packs = 1\n",
      "INFO:tensorflow:Collective all_reduce tensors: 1 all_reduces, num_devices = 1, group_size = 1, implementation = CommunicationImplementation.NCCL, num_packs = 1\n",
      "INFO:tensorflow:Collective all_reduce tensors: 1 all_reduces, num_devices = 1, group_size = 1, implementation = CommunicationImplementation.NCCL, num_packs = 1\n",
      "INFO:tensorflow:Collective all_reduce tensors: 1 all_reduces, num_devices = 1, group_size = 1, implementation = CommunicationImplementation.NCCL, num_packs = 1\n",
      "INFO:tensorflow:Collective all_reduce tensors: 1 all_reduces, num_devices = 1, group_size = 1, implementation = CommunicationImplementation.NCCL, num_packs = 1\n",
      "INFO:tensorflow:Collective all_reduce tensors: 1 all_reduces, num_devices = 1, group_size = 1, implementation = CommunicationImplementation.NCCL, num_packs = 1\n",
      "INFO:tensorflow:Collective all_reduce tensors: 1 all_reduces, num_devices = 1, group_size = 1, implementation = CommunicationImplementation.NCCL, num_packs = 1\n",
      "INFO:tensorflow:Collective all_reduce tensors: 1 all_reduces, num_devices = 1, group_size = 1, implementation = CommunicationImplementation.NCCL, num_packs = 1\n",
      "INFO:tensorflow:Collective all_reduce tensors: 1 all_reduces, num_devices = 1, group_size = 1, implementation = CommunicationImplementation.NCCL, num_packs = 1\n",
      "INFO:tensorflow:Collective all_reduce tensors: 1 all_reduces, num_devices = 1, group_size = 1, implementation = CommunicationImplementation.NCCL, num_packs = 1\n",
      "INFO:tensorflow:Collective all_reduce tensors: 1 all_reduces, num_devices = 1, group_size = 1, implementation = CommunicationImplementation.NCCL, num_packs = 1\n",
      "INFO:tensorflow:Collective all_reduce tensors: 1 all_reduces, num_devices = 1, group_size = 1, implementation = CommunicationImplementation.NCCL, num_packs = 1\n",
      "INFO:tensorflow:Collective all_reduce tensors: 1 all_reduces, num_devices = 1, group_size = 1, implementation = CommunicationImplementation.NCCL, num_packs = 1\n",
      "INFO:tensorflow:Collective all_reduce tensors: 1 all_reduces, num_devices = 1, group_size = 1, implementation = CommunicationImplementation.NCCL, num_packs = 1\n",
      "INFO:tensorflow:Collective all_reduce tensors: 1 all_reduces, num_devices = 1, group_size = 1, implementation = CommunicationImplementation.NCCL, num_packs = 1\n",
      "INFO:tensorflow:Collective all_reduce tensors: 1 all_reduces, num_devices = 1, group_size = 1, implementation = CommunicationImplementation.NCCL, num_packs = 1\n",
      "INFO:tensorflow:Collective all_reduce tensors: 1 all_reduces, num_devices = 1, group_size = 1, implementation = CommunicationImplementation.NCCL, num_packs = 1\n",
      "INFO:tensorflow:Collective all_reduce tensors: 1 all_reduces, num_devices = 1, group_size = 1, implementation = CommunicationImplementation.NCCL, num_packs = 1\n",
      "INFO:tensorflow:Collective all_reduce tensors: 1 all_reduces, num_devices = 1, group_size = 1, implementation = CommunicationImplementation.NCCL, num_packs = 1\n",
      "INFO:tensorflow:Collective all_reduce tensors: 1 all_reduces, num_devices = 1, group_size = 1, implementation = CommunicationImplementation.NCCL, num_packs = 1\n",
      "INFO:tensorflow:Collective all_reduce tensors: 1 all_reduces, num_devices = 1, group_size = 1, implementation = CommunicationImplementation.NCCL, num_packs = 1\n",
      "INFO:tensorflow:Collective all_reduce tensors: 1 all_reduces, num_devices = 1, group_size = 1, implementation = CommunicationImplementation.NCCL, num_packs = 1\n",
      "INFO:tensorflow:Collective all_reduce tensors: 1 all_reduces, num_devices = 1, group_size = 1, implementation = CommunicationImplementation.NCCL, num_packs = 1\n",
      "INFO:tensorflow:Collective all_reduce tensors: 1 all_reduces, num_devices = 1, group_size = 1, implementation = CommunicationImplementation.NCCL, num_packs = 1\n",
      "  1/391 [..............................] - ETA: 2:06:43 - loss: 1.0164 - accuracy: 0.6562"
     ]
    },
    {
     "name": "stderr",
     "output_type": "stream",
     "text": [
      "W0000 00:00:1716639532.647511  221293 graph_launch.cc:671] Fallback to op-by-op mode because memset node breaks graph update\n",
      "W0000 00:00:1716639532.765506  221293 graph_launch.cc:671] Fallback to op-by-op mode because memset node breaks graph update\n"
     ]
    },
    {
     "name": "stdout",
     "output_type": "stream",
     "text": [
      "391/391 [==============================] - 60s 104ms/step - loss: 0.9952 - accuracy: 0.6614\n"
     ]
    },
    {
     "name": "stderr",
     "output_type": "stream",
     "text": [
      "W0000 00:00:1716639573.349395  221293 graph_launch.cc:671] Fallback to op-by-op mode because memset node breaks graph update\n",
      "W0000 00:00:1716639573.426871  221293 graph_launch.cc:671] Fallback to op-by-op mode because memset node breaks graph update\n"
     ]
    },
    {
     "name": "stdout",
     "output_type": "stream",
     "text": [
      "16/16 [==============================] - 1s 75ms/step - loss: 1.1740 - accuracy: 0.6020\n"
     ]
    }
   ],
   "source": [
    "for e in range(len(ensemble_models)):\n",
    "    ensemble_model=ensemble_models[e]\n",
    "    print(ensemble_model._name)\n",
    "    forget_losses = compute_losses(ensemble_model, forget_ds)\n",
    "    test_losses = compute_losses(ensemble_model, test_ds)\n",
    "\n",
    "    # Since we have more forget losses than test losses, sub-sample them, to have a class-balanced dataset.\n",
    "    np.random.shuffle(forget_losses)\n",
    "    forget_losses = forget_losses[:len(test_losses)]\n",
    "\n",
    "    samples_mia = np.concatenate((test_losses, forget_losses)).reshape((-1, 1))\n",
    "    labels_mia = [0] * len(test_losses) + [1] * len(forget_losses)\n",
    "\n",
    "    mia_scores = simple_mia(samples_mia, labels_mia)\n",
    "\n",
    "    print(\n",
    "        f\"The MIA attack has an accuracy of {mia_scores.mean():.3f} on forgotten vs unseen images\"\n",
    "    )\n",
    "\n",
    "    accuracy_train[e]=ensemble_model.evaluate(train_ds)[-1]\n",
    "    accuracy_test[e]=ensemble_model.evaluate(test_ds)[-1]\n",
    "    mia_score[e]=mia_scores.mean()"
   ]
  },
  {
   "cell_type": "code",
   "execution_count": 32,
   "metadata": {},
   "outputs": [
    {
     "data": {
      "image/png": "[encoded data removed]",
      "text/plain": [
       "<Figure size 640x480 with 1 Axes>"
      ]
     },
     "metadata": {},
     "output_type": "display_data"
    }
   ],
   "source": [
    "plt.plot(slices, accuracy_train, label='Train Accuracy')\n",
    "plt.plot(slices, accuracy_test, label='Test Accuracy')\n",
    "plt.plot(slices, mia_score, label='MIA Score')\n",
    "\n",
    "plt.xlabel('Slices')\n",
    "plt.ylabel('Scores')\n",
    "plt.title('Accuracies and MIA Score vs. Slices')\n",
    "plt.legend()\n",
    "plt.grid(True)\n",
    "plt.gca().set_ylim(0.5,1)\n",
    "plt.show()"
   ]
  },
  {
   "cell_type": "markdown",
   "metadata": {},
   "source": [
    "______\n",
    "### Utilidades"
   ]
  },
  {
   "cell_type": "code",
   "execution_count": 24,
   "metadata": {},
   "outputs": [
    {
     "name": "stdout",
     "output_type": "stream",
     "text": [
      "Sliced model  0  loaded\n",
      "Sliced model  1  loaded\n",
      "Sliced model  2  loaded\n",
      "Sliced model  3  loaded\n",
      "Sliced model  4  loaded\n",
      "Sliced model  5  loaded\n",
      "Sliced model  6  loaded\n",
      "Sliced model  7  loaded\n",
      "Sliced model  8  loaded\n",
      "Sliced model  9  loaded\n",
      "Sliced model  10  loaded\n",
      "Sliced model  11  loaded\n",
      "Sliced model  12  loaded\n",
      "Sliced model  13  loaded\n"
     ]
    }
   ],
   "source": [
    "# Cargar los modelos guardados\n",
    "\n",
    "Slices=16\n",
    "\n",
    "#models=[]\n",
    "for s in range(14):\n",
    "    model = keras.saving.load_model('sliced_models/slice_'+str(Slices)+'_'+str(s)+'.keras')\n",
    "    models.append(model)\n",
    "    print('Sliced model ', s, ' loaded')\n"
   ]
  },
  {
   "cell_type": "code",
   "execution_count": 25,
   "metadata": {},
   "outputs": [
    {
     "name": "stdout",
     "output_type": "stream",
     "text": [
      "sequential_0\n",
      "sequential_1\n",
      "sequential_2\n",
      "sequential_3\n",
      "sequential_4\n",
      "sequential_5\n",
      "sequential_6\n",
      "sequential_7\n",
      "sequential_8\n",
      "sequential_9\n",
      "sequential_10\n",
      "sequential_11\n",
      "sequential_12\n",
      "sequential_13\n",
      "sequential_14\n",
      "sequential_15\n"
     ]
    }
   ],
   "source": [
    "# Renombrar modelos si se repiten los nombres\n",
    "\n",
    "for s in range(Slices):\n",
    "    models[s]._name='sequential_'+str(s)\n",
    "    print(models[s]._name)"
   ]
  },
  {
   "cell_type": "code",
   "execution_count": 25,
   "metadata": {},
   "outputs": [],
   "source": [
    "import pickle\n",
    "\n",
    "# Saving the objects:\n",
    "with open('objs.pkl', 'wb') as f:  # Python 3: open(..., 'wb')\n",
    "    pickle.dump([slices, accuracy_train, accuracy_test, mia_score], f)"
   ]
  },
  {
   "cell_type": "code",
   "execution_count": 23,
   "metadata": {},
   "outputs": [],
   "source": [
    "import pickle\n",
    "\n",
    "# Getting back the objects:\n",
    "with open('SIsA_data.pkl', 'rb') as f:  # Python 3: open(..., 'rb')\n",
    "    [slices, accuracy_train, accuracy_test, mia_score] = pickle.load(f)"
   ]
  }
 ],
 "metadata": {
  "kernelspec": {
   "display_name": "py310",
   "language": "python",
   "name": "python3"
  },
  "language_info": {
   "codemirror_mode": {
    "name": "ipython",
    "version": 3
   },
   "file_extension": ".py",
   "mimetype": "text/x-python",
   "name": "python",
   "nbconvert_exporter": "python",
   "pygments_lexer": "ipython3",
   "version": "3.10.14"
  }
 },
 "nbformat": 4,
 "nbformat_minor": 2
}
