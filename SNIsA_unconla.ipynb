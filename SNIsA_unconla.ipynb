{
 "cells": [
  {
   "cell_type": "markdown",
   "metadata": {},
   "source": [
    "### 🎯 Unlearning by Confusing Layers\n",
    "Vamos a entrenar un ensablado de modelos ResNet18 y evaluar la eficacia de un MIA cuando reentrenamos los modelos partiendo de un modelo base con ciertas capas _confundidas_. Estudiamos primero el caso de un único modelo reentrenado."
   ]
  },
  {
   "cell_type": "code",
   "execution_count": 1,
   "metadata": {},
   "outputs": [
    {
     "name": "stdout",
     "output_type": "stream",
     "text": [
      "Using TensorFlow backend\n"
     ]
    }
   ],
   "source": [
    "import os\n",
    "import warnings\n",
    "import numpy as np\n",
    "import pandas as pd\n",
    "from tqdm import tqdm\n",
    "from matplotlib import pyplot as plt\n",
    "from sklearn import linear_model, model_selection\n",
    "import pickle\n",
    "\n",
    "# Suppress warnings and TensorFlow logs\n",
    "warnings.simplefilter(action=\"ignore\")\n",
    "os.environ[\"TF_CPP_MIN_LOG_LEVEL\"] = \"3\"\n",
    "\n",
    "import tensorflow as tf\n",
    "from tensorflow import keras\n",
    "from tensorflow.keras import layers, losses, optimizers, metrics\n",
    "from tensorflow.keras.utils import split_dataset\n",
    "from tensorflow.python.client import device_lib\n",
    "\n",
    "import keras_cv as kcv\n",
    "from keras_cv import visualization\n",
    "from keras_cv.models import ResNet18Backbone"
   ]
  },
  {
   "cell_type": "code",
   "execution_count": 2,
   "metadata": {},
   "outputs": [],
   "source": [
    "def set_device(mixed_precision=True, set_jit=False):\n",
    "    # printed out the detected devices\n",
    "    list_ld = device_lib.list_local_devices()\n",
    "    for dev in list_ld:\n",
    "        print(dev.name,dev.memory_limit)\n",
    "\n",
    "    # get the lisf of physical devices\n",
    "    physical_devices = tf.config.list_physical_devices(\n",
    "        'GPU' if len(list_ld) - 1 else 'CPU'\n",
    "    )\n",
    "    # For GPU devices, configure related stuff\n",
    "    if 'GPU' in physical_devices[-1]:\n",
    "        tf.config.optimizer.set_jit(set_jit)\n",
    "        if mixed_precision:\n",
    "            keras.mixed_precision.set_global_policy(\n",
    "                \"mixed_float16\"\n",
    "            )\n",
    "        else:\n",
    "            keras.mixed_precision.set_global_policy(\n",
    "                keras.backend.floatx()\n",
    "            )\n",
    "        for pd in physical_devices:\n",
    "            tf.config.experimental.set_memory_growth(\n",
    "                pd, True\n",
    "            )\n",
    "    strategy = tf.distribute.MirroredStrategy()\n",
    "    return (strategy, physical_devices)"
   ]
  },
  {
   "cell_type": "code",
   "execution_count": 3,
   "metadata": {},
   "outputs": [
    {
     "name": "stdout",
     "output_type": "stream",
     "text": [
      "/device:CPU:0 268435456\n",
      "/device:GPU:0 4254072832\n",
      "INFO:tensorflow:Mixed precision compatibility check (mixed_float16): OK\n",
      "Your GPU will likely run quickly with dtype policy mixed_float16 as it has compute capability of at least 7.0. Your GPU: NVIDIA GeForce RTX 2060, compute capability 7.5\n",
      "INFO:tensorflow:Using MirroredStrategy with devices ('/job:localhost/replica:0/task:0/device:GPU:0',)\n"
     ]
    },
    {
     "data": {
      "text/plain": [
       "([PhysicalDevice(name='/physical_device:GPU:0', device_type='GPU')],\n",
       " <tensorflow.python.distribute.mirrored_strategy.MirroredStrategy at 0x7f1033f90fa0>,\n",
       " '2.15.1')"
      ]
     },
     "execution_count": 3,
     "metadata": {},
     "output_type": "execute_result"
    }
   ],
   "source": [
    "strategy, physical_devices = set_device(mixed_precision=True, set_jit=True)\n",
    "physical_devices, strategy, tf.__version__"
   ]
  },
  {
   "cell_type": "markdown",
   "metadata": {},
   "source": [
    "___\n",
    "Descargamos y preparamos los datos de CIFAR-10."
   ]
  },
  {
   "cell_type": "code",
   "execution_count": 4,
   "metadata": {},
   "outputs": [],
   "source": [
    "AUTOTUNE = tf.data.AUTOTUNE\n",
    "BATCH_SIZE = 128\n",
    "\n",
    "(x_train, y_train), held_out = keras.datasets.cifar10.load_data()\n",
    "test_set, val_set = split_dataset(held_out, left_size=0.2)"
   ]
  },
  {
   "cell_type": "code",
   "execution_count": 5,
   "metadata": {},
   "outputs": [],
   "source": [
    "def normalize(image, label, denorm=False):\n",
    "    rescale = keras.layers.Rescaling(scale=1./255.)\n",
    "    norms = keras.layers.Normalization(\n",
    "        mean=[0.4914, 0.4822, 0.4465],\n",
    "        variance=[np.square(0.2023), np.square(0.1994), np.square(0.2010)],\n",
    "        invert=denorm,\n",
    "        axis=-1,\n",
    "    )\n",
    "\n",
    "    if not denorm:\n",
    "        image = rescale(image)\n",
    "    return norms(image), label"
   ]
  },
  {
   "cell_type": "code",
   "execution_count": 6,
   "metadata": {},
   "outputs": [],
   "source": [
    "# Esta función divide el conjunto de datos (no convertidos en un Dataset) en 'S' trozos de igual tamaño,\n",
    "# proporcionando también los conjuntos a olvidar y retener\n",
    "\n",
    "def sliced_ds_raw(x,y,S):\n",
    "    x_slices = []\n",
    "    y_slices = []\n",
    "    ft_set_x=[]\n",
    "    ft_set_y=[]\n",
    "    rt_set_x=[]\n",
    "    rt_set_y=[]\n",
    "\n",
    "    # Calculate the size of each slice\n",
    "    slice_size = x.shape[0] // S\n",
    "    forget_size = slice_size // 10\n",
    "\n",
    "    for i in range(S):\n",
    "        start_index = i * slice_size\n",
    "        end_index = start_index + slice_size\n",
    "        x_slices.append(x[start_index:end_index])\n",
    "        y_slices.append(y[start_index:end_index])\n",
    "        ft_set_x.append(x[start_index:start_index+forget_size])\n",
    "        ft_set_y.append(y[start_index:start_index+forget_size])\n",
    "        rt_set_x.append(x[start_index+forget_size:end_index])\n",
    "        rt_set_y.append(y[start_index+forget_size:end_index])\n",
    "\n",
    "    return x_slices, y_slices, ft_set_x, ft_set_y, rt_set_x, rt_set_y"
   ]
  },
  {
   "cell_type": "code",
   "execution_count": 7,
   "metadata": {},
   "outputs": [],
   "source": [
    "train_ds = tf.data.Dataset.from_tensor_slices((x_train, y_train))\n",
    "\n",
    "train_ds = train_ds.map(normalize)\n",
    "train_ds = train_ds.shuffle(buffer_size=8*BATCH_SIZE)\n",
    "train_ds = train_ds.batch(BATCH_SIZE).prefetch(AUTOTUNE)\n",
    "\n",
    "val_ds = val_set.map(normalize).batch(BATCH_SIZE).prefetch(AUTOTUNE)\n",
    "test_ds = test_set.map(normalize).batch(BATCH_SIZE).prefetch(AUTOTUNE)"
   ]
  },
  {
   "cell_type": "markdown",
   "metadata": {},
   "source": [
    "___\n",
    "Descargamos el modelo ResNet18, y lo entrenamos habiendo reinicializado ciertas capas."
   ]
  },
  {
   "cell_type": "code",
   "execution_count": 8,
   "metadata": {},
   "outputs": [],
   "source": [
    "def get_model():\n",
    "    with strategy.scope():\n",
    "        model = keras.Sequential(\n",
    "            [\n",
    "                ResNet18Backbone(include_rescaling=False, input_shape=(32, 32, 3)),\n",
    "                keras.layers.GlobalMaxPooling2D(),\n",
    "                keras.layers.Dense(10, activation=\"softmax\", dtype=tf.float32),\n",
    "            ]\n",
    "        )\n",
    "        model.compile(\n",
    "            optimizer='adam',\n",
    "            loss='sparse_categorical_crossentropy',\n",
    "            metrics=metrics.SparseCategoricalAccuracy(name='accuracy'),\n",
    "            jit_compile=True\n",
    "        )\n",
    "\n",
    "    return model"
   ]
  },
  {
   "cell_type": "code",
   "execution_count": null,
   "metadata": {},
   "outputs": [],
   "source": [
    "model = keras.saving.load_model('resnet18_cifar10.keras')"
   ]
  },
  {
   "cell_type": "markdown",
   "metadata": {},
   "source": [
    "___\n",
    "Confusión de capas."
   ]
  },
  {
   "cell_type": "code",
   "execution_count": 9,
   "metadata": {},
   "outputs": [],
   "source": [
    "from keras.layers import Conv2D\n",
    "\n",
    "def vision_confuser(model, std=0.1):\n",
    "    # Assuming the ResNet18 backbone is the first layer of the model\n",
    "    resnet_backbone = model.layers[0]\n",
    "    for layer in resnet_backbone.layers:\n",
    "        if isinstance(layer, Conv2D):\n",
    "            weights = layer.get_weights()\n",
    "            # Iterate over each array in the list\n",
    "            for i, arr in enumerate(weights):\n",
    "                # Generate random numbers from a normal distribution\n",
    "                random_numbers = np.random.normal(0, std, size=arr.shape)\n",
    "                # Add the random numbers to the original array\n",
    "                weights[i] += random_numbers\n",
    "            layer.set_weights(weights)\n",
    "\n",
    "    weights = model.layers[-1].get_weights()\n",
    "    # Iterate over each array in the list\n",
    "    for i, arr in enumerate(weights):\n",
    "        # Generate random numbers from a normal distribution\n",
    "        random_numbers = np.random.normal(0, std, size=arr.shape)\n",
    "        # Add the random numbers to the original array\n",
    "        weights[i] += random_numbers\n",
    "    model.layers[-1].set_weights(weights)\n"
   ]
  },
  {
   "cell_type": "code",
   "execution_count": null,
   "metadata": {},
   "outputs": [],
   "source": [
    "base_model = tf.keras.models.clone_model(model)\n",
    "base_model.set_weights(model.get_weights())\n",
    "base_model.compile(\n",
    "        optimizer='adam',\n",
    "        loss='sparse_categorical_crossentropy',\n",
    "        metrics=metrics.SparseCategoricalAccuracy(name='accuracy'),\n",
    "        jit_compile=True\n",
    "    )"
   ]
  },
  {
   "cell_type": "code",
   "execution_count": null,
   "metadata": {},
   "outputs": [],
   "source": [
    "confusion_std=0.06\n",
    "\n",
    "vision_confuser(base_model, std=confusion_std)"
   ]
  },
  {
   "cell_type": "code",
   "execution_count": null,
   "metadata": {},
   "outputs": [],
   "source": [
    "def compare_weights(model1,model2):\n",
    "    # Extract the 'res_net_backbone' layer\n",
    "    res_net_backbone = model1.get_layer('res_net_backbone')\n",
    "    backbone_layer_weights = [layer.get_weights() for layer in res_net_backbone.layers if layer.count_params() > 0 and not layer.name.endswith('_bn')]\n",
    "\n",
    "    # Extract layer names and weights for the entire model\n",
    "    layer_names = [layer.name for layer in model1.layers]\n",
    "    layer_weights = [layer.get_weights() for layer in model1.layers]\n",
    "\n",
    "    model1_weights = []\n",
    "\n",
    "    for name, weights in zip(layer_names, layer_weights):\n",
    "        if name == 'res_net_backbone':\n",
    "            model1_weights.extend(backbone_layer_weights)\n",
    "        elif weights:  # Only add layers that have weights\n",
    "            model1_weights.append(weights)\n",
    "\n",
    "        # Extract the 'res_net_backbone' layer\n",
    "    res_net_backbone = model2.get_layer('res_net_backbone')\n",
    "    backbone_layer_weights = [layer.get_weights() for layer in res_net_backbone.layers if layer.count_params() > 0 and not layer.name.endswith('_bn')]\n",
    "\n",
    "    # Extract layer names and weights for the entire model\n",
    "    layer_names = [layer.name for layer in model2.layers]\n",
    "    layer_weights = [layer.get_weights() for layer in model2.layers]\n",
    "\n",
    "    model2_weights = []\n",
    "\n",
    "    for name, weights in zip(layer_names, layer_weights):\n",
    "        if name == 'res_net_backbone':\n",
    "            model2_weights.extend(backbone_layer_weights)\n",
    "        elif weights:  # Only add layers that have weights\n",
    "            model2_weights.append(weights)\n",
    "\n",
    "    layer_names=['conv1','0_1_1_conv','0_1_2_conv','0_2_1_conv',\n",
    "    '0_2_2_conv','1_1_1_conv','1_1_0_conv','1_1_2_conv','1_2_1_conv',\n",
    "    '1_2_2_conv','2_1_1_conv','2_1_0_conv','2_1_2_conv','2_2_1_conv',\n",
    "    '2_2_2_conv','3_1_1_conv','3_1_0_conv','3_1_2_conv','3_2_1_conv',\n",
    "    '3_2_2_conv','dense_out']\n",
    "\n",
    "    return layer_names, model1_weights, model2_weights"
   ]
  },
  {
   "cell_type": "code",
   "execution_count": null,
   "metadata": {},
   "outputs": [],
   "source": [
    "from numpy import dot\n",
    "from numpy.linalg import norm\n",
    "import matplotlib.pyplot as plt\n",
    "\n",
    "def flatten_arrays(arrays):\n",
    "    flattened_elements = []\n",
    "    for arr in arrays:\n",
    "        flattened_elements.extend(arr.flatten())\n",
    "    return flattened_elements\n",
    "\n",
    "def cos_sim(a,b):\n",
    "    return dot(a, b)/(norm(a)*norm(b))"
   ]
  },
  {
   "cell_type": "code",
   "execution_count": null,
   "metadata": {},
   "outputs": [],
   "source": [
    "layer_names, model1_wights, model2_weghts = compare_weights(model,base_model)\n",
    "\n",
    "# Initialize list to store cosine similarities\n",
    "similarities = []\n",
    "\n",
    "# Compute cosine similarity for each layer\n",
    "for w1, w2 in zip(model1_wights, model2_weghts):\n",
    "    w1=flatten_arrays(w1)\n",
    "    w2=flatten_arrays(w2)\n",
    "    similarity = cos_sim(w1, w2)\n",
    "    similarities.append(similarity)\n",
    "\n",
    "# Plotting\n",
    "plt.figure(figsize=(5, 3))\n",
    "plt.barh(layer_names, similarities, color='skyblue', capsize=5)\n",
    "plt.xlabel('Cosine Similarity')\n",
    "plt.ylabel('Layers')\n",
    "plt.title('Cosine similarity between weight arrays of models')\n",
    "plt.xticks(rotation=45)\n",
    "plt.grid(axis='x', linestyle='--', alpha=0.7)\n",
    "plt.tight_layout()\n",
    "plt.legend()\n",
    "\n",
    "plt.show()"
   ]
  },
  {
   "cell_type": "code",
   "execution_count": 10,
   "metadata": {},
   "outputs": [],
   "source": [
    "Slices=16 # slices\n",
    "\n",
    "x_slices, y_slices, ft_set_x, ft_set_y, rt_set_x, rt_set_y = sliced_ds_raw(x_train, y_train, Slices)\n",
    "sliced_datasets=[]\n",
    "ft_datasets=[]\n",
    "rt_datasets=[]\n",
    "\n",
    "for i in range(Slices):\n",
    "    ds=tf.data.Dataset.from_tensor_slices((x_slices[i], y_slices[i]))\n",
    "    sliced_datasets.append(ds)\n",
    "\n",
    "    ds=tf.data.Dataset.from_tensor_slices((ft_set_x[i], ft_set_y[i]))\n",
    "    ft_datasets.append(ds)\n",
    "\n",
    "    ds=tf.data.Dataset.from_tensor_slices((rt_set_x[i], rt_set_y[i]))\n",
    "    rt_datasets.append(ds)\n",
    "\n",
    "for i in range(Slices):\n",
    "    sliced_datasets[i] = sliced_datasets[i].map(normalize)\n",
    "    sliced_datasets[i] = sliced_datasets[i].shuffle(buffer_size=8*BATCH_SIZE)\n",
    "    sliced_datasets[i] = sliced_datasets[i].batch(BATCH_SIZE).prefetch(AUTOTUNE)\n",
    "\n",
    "    ft_datasets[i] = ft_datasets[i].map(normalize)\n",
    "    ft_datasets[i] = ft_datasets[i].shuffle(buffer_size=8*BATCH_SIZE)\n",
    "    ft_datasets[i] = ft_datasets[i].batch(BATCH_SIZE).prefetch(AUTOTUNE)\n",
    "\n",
    "    rt_datasets[i] = rt_datasets[i].map(normalize)\n",
    "    rt_datasets[i] = rt_datasets[i].shuffle(buffer_size=8*BATCH_SIZE)\n",
    "    rt_datasets[i] = rt_datasets[i].batch(BATCH_SIZE).prefetch(AUTOTUNE)"
   ]
  },
  {
   "cell_type": "markdown",
   "metadata": {},
   "source": [
    "___\n",
    "_Unlearning model_"
   ]
  },
  {
   "cell_type": "code",
   "execution_count": 11,
   "metadata": {},
   "outputs": [
    {
     "name": "stdout",
     "output_type": "stream",
     "text": [
      "Finished iteration 0\n",
      "Finished iteration 1\n",
      "Finished iteration 2\n",
      "Finished iteration 3\n",
      "Finished iteration 4\n",
      "Finished iteration 5\n",
      "Finished iteration 6\n",
      "Finished iteration 7\n",
      "Finished iteration 8\n",
      "Finished iteration 9\n",
      "Finished iteration 10\n",
      "Finished iteration 11\n",
      "Finished iteration 12\n",
      "Finished iteration 13\n",
      "Finished iteration 14\n",
      "Finished iteration 15\n"
     ]
    }
   ],
   "source": [
    "\"\"\" models = []\n",
    "\n",
    "for s in range(Slices):\n",
    "    save_path = 'confused_ensembles/'+str(Slices)+'_sliced_models/retain_slice_'+str(s)+'.keras'\n",
    "    model_copy=keras.saving.load_model(save_path)\n",
    "    \n",
    "    models.append(model_copy)\n",
    "    print(f\"Finished iteration {s}\") \"\"\""
   ]
  },
  {
   "cell_type": "code",
   "execution_count": null,
   "metadata": {},
   "outputs": [],
   "source": [
    "models = []\n",
    "\n",
    "for s in range(13, Slices):\n",
    "    model_copy = tf.keras.models.clone_model(base_model)\n",
    "    model_copy.set_weights(base_model.get_weights())\n",
    "    model_copy.compile(\n",
    "            optimizer='adam',\n",
    "            loss='sparse_categorical_crossentropy',\n",
    "            metrics=metrics.SparseCategoricalAccuracy(name='accuracy'),\n",
    "            jit_compile=True\n",
    "        )\n",
    "\n",
    "    models.append(model_copy)\n",
    "\n",
    "    model_copy.fit(rt_datasets[s], validation_data=val_ds, epochs=1)\n",
    "\n",
    "    vision_confuser(model_copy, std=confusion_std)\n",
    "    model_copy.fit(rt_datasets[s], validation_data=val_ds, epochs=1)\n",
    "\n",
    "    vision_confuser(model_copy, std=confusion_std)\n",
    "    model_copy.fit(rt_datasets[s], validation_data=val_ds, epochs=1)\n",
    "\n",
    "    vision_confuser(model_copy, std=confusion_std)\n",
    "    model_copy.fit(rt_datasets[s], validation_data=val_ds, epochs=1)\n",
    "    \n",
    "    vision_confuser(model_copy, std=confusion_std)\n",
    "    model_copy.fit(rt_datasets[s], validation_data=val_ds, epochs=2)\n",
    "\n",
    "    vision_confuser(model_copy, std=confusion_std)\n",
    "    model_copy.fit(rt_datasets[s], validation_data=val_ds, epochs=4)\n",
    "\n",
    "    \"\"\" model_copy.fit(rt_datasets[s], validation_data=val_ds, epochs=1)\n",
    "\n",
    "    vision_confuser(model_copy, std=confusion_std)\n",
    "    model_copy.fit(rt_datasets[s], validation_data=val_ds, epochs=1)\n",
    "\n",
    "    vision_confuser(model_copy, std=confusion_std)\n",
    "    model_copy.fit(rt_datasets[s], validation_data=val_ds, epochs=1)\n",
    "\n",
    "    vision_confuser(model_copy, std=confusion_std)\n",
    "    model_copy.fit(rt_datasets[s], validation_data=val_ds, epochs=1)\n",
    "\n",
    "    vision_confuser(model_copy, std=confusion_std)\n",
    "    model_copy.fit(rt_datasets[s], validation_data=val_ds, epochs=2)\n",
    "\n",
    "    vision_confuser(model_copy, std=confusion_std)\n",
    "    model_copy.fit(rt_datasets[s], validation_data=val_ds, epochs=4) \"\"\"\n",
    "\n",
    "    save_path = 'confused_ensembles/'+str(Slices)+'_sliced_models/retain_slice_'+str(s)+'.keras'\n",
    "    # Create the directory if it doesn't exist\n",
    "    os.makedirs(os.path.dirname(save_path), exist_ok=True)\n",
    "\n",
    "    model_copy.save(save_path, save_format=\"keras_v3\")\n",
    "\n",
    "    print(f\"Finished iteration {s}\")"
   ]
  },
  {
   "cell_type": "code",
   "execution_count": 12,
   "metadata": {},
   "outputs": [
    {
     "name": "stdout",
     "output_type": "stream",
     "text": [
      "sequential_0\n",
      "sequential_1\n",
      "sequential_2\n",
      "sequential_3\n",
      "sequential_4\n",
      "sequential_5\n",
      "sequential_6\n",
      "sequential_7\n",
      "sequential_8\n",
      "sequential_9\n",
      "sequential_10\n",
      "sequential_11\n",
      "sequential_12\n",
      "sequential_13\n",
      "sequential_14\n",
      "sequential_15\n"
     ]
    }
   ],
   "source": [
    "# Ensamblado de los 'S' modelos en uno, cuyo output es la media de los todos\n",
    "\n",
    "for s in range(Slices):\n",
    "    models[s]._name='sequential_'+str(s)\n",
    "    print(models[s]._name)\n",
    "    \n",
    "model_input = tf.keras.Input(shape=(32, 32, 3))\n",
    "model_outputs = [model(model_input) for model in models]\n",
    "ensemble_output = tf.keras.layers.Average()(model_outputs)\n",
    "unlearn_model = tf.keras.Model(inputs=model_input, outputs=ensemble_output)\n",
    "\n",
    "unlearn_model.compile(\n",
    "            optimizer='adam',\n",
    "            loss='sparse_categorical_crossentropy',\n",
    "            metrics=metrics.SparseCategoricalAccuracy(name='accuracy'),\n",
    "            jit_compile=True\n",
    "        )"
   ]
  },
  {
   "cell_type": "markdown",
   "metadata": {},
   "source": [
    "___\n",
    "Cuantificamos la calidad del algoritmo de desaprendizaje a través de un _membership inference attack_ simple (MIA).\n",
    "\n",
    "Este MIA consiste en un modelo de regresión logística que predice si el modelo fue entrenado en una muestra particular a partir del _loss_ de esa muestra. Para tener una idea de la dificultad de este problema, primero graficamos a continuación un histograma de los _loss_-es del modelo preentrenado en el conjunto de entrenamiento y prueba."
   ]
  },
  {
   "cell_type": "code",
   "execution_count": 13,
   "metadata": {},
   "outputs": [],
   "source": [
    "def compute_losses(net, loader):\n",
    "    \"\"\"Auxiliary function to compute per-sample losses\"\"\"\n",
    "\n",
    "    loss_fn = keras.losses.SparseCategoricalCrossentropy(\n",
    "        reduction=\"none\"\n",
    "    )\n",
    "    all_losses = []\n",
    "\n",
    "    for inputs, targets in tqdm(loader):\n",
    "        logits = net(inputs, training=False)\n",
    "        losses = loss_fn(targets, logits).numpy()\n",
    "        for l in losses:\n",
    "            all_losses.append(l)\n",
    "\n",
    "    return np.array(all_losses)"
   ]
  },
  {
   "cell_type": "code",
   "execution_count": 14,
   "metadata": {},
   "outputs": [],
   "source": [
    "def simple_mia(sample_loss, members, n_splits=10, random_state=0):\n",
    "    \"\"\"Computes cross-validation score of a membership inference attack.\n",
    "\n",
    "    Args:\n",
    "      sample_loss : array_like of shape (n,).\n",
    "        objective function evaluated on n samples.\n",
    "      members : array_like of shape (n,),\n",
    "        whether a sample was used for training.\n",
    "      n_splits: int\n",
    "        number of splits to use in the cross-validation.\n",
    "    Returns:\n",
    "      scores : array_like of size (n_splits,)\n",
    "    \"\"\"\n",
    "\n",
    "    unique_members = np.unique(members)\n",
    "    if not np.all(unique_members == np.array([0, 1])):\n",
    "        raise ValueError(\"members should only have 0 and 1s\")\n",
    "\n",
    "    attack_model = linear_model.LogisticRegression()\n",
    "    cv = model_selection.StratifiedShuffleSplit(\n",
    "        n_splits=n_splits, random_state=random_state\n",
    "    )\n",
    "    return model_selection.cross_val_score(\n",
    "        attack_model, sample_loss, members, cv=cv, scoring=\"accuracy\"\n",
    "    )"
   ]
  },
  {
   "cell_type": "code",
   "execution_count": 27,
   "metadata": {},
   "outputs": [
    {
     "name": "stdout",
     "output_type": "stream",
     "text": [
      "391/391 [==============================] - 14s 35ms/step - loss: 0.7807 - accuracy: 0.7406\n",
      "Train set accuracy: 74.1%%\n",
      "352/352 [==============================] - 13s 35ms/step - loss: 0.7688 - accuracy: 0.7449\n",
      "Retain set accuracy: 74.5%%\n",
      "48/48 [==============================] - 2s 40ms/step - loss: 0.8882 - accuracy: 0.7027\n",
      "Forget set accuracy: 70.3%%\n",
      "63/63 [==============================] - 2s 36ms/step - loss: 0.9616 - accuracy: 0.6812\n",
      "Validation set accuracy: 68.1%%\n",
      "16/16 [==============================] - 1s 32ms/step - loss: 0.9522 - accuracy: 0.6790\n",
      "Test set accuracy: 67.9%%\n"
     ]
    }
   ],
   "source": [
    "retain_ds = rt_datasets[0]\n",
    "for dataset in rt_datasets[1:]:\n",
    "    retain_ds = retain_ds.concatenate(dataset)\n",
    "\n",
    "forget_ds = ft_datasets[0]\n",
    "for dataset in ft_datasets[1:]:\n",
    "    forget_ds = forget_ds.concatenate(dataset)\n",
    "\n",
    "# Análisis de la exactitud en el conjunto de datos\n",
    "print(f\"Train set accuracy: {100.0 * unlearn_model.evaluate(train_ds)[-1]:0.1f}%%\")\n",
    "print(f\"Retain set accuracy: {100.0 * unlearn_model.evaluate(retain_ds)[-1]:0.1f}%%\")\n",
    "print(f\"Forget set accuracy: {100.0 * unlearn_model.evaluate(forget_ds)[-1]:0.1f}%%\")\n",
    "print(f\"Validation set accuracy: {100.0 * unlearn_model.evaluate(val_ds)[-1]:0.1f}%%\")\n",
    "print(f\"Test set accuracy: {100.0 * unlearn_model.evaluate(test_ds)[-1]:0.1f}%%\")"
   ]
  },
  {
   "cell_type": "code",
   "execution_count": 17,
   "metadata": {},
   "outputs": [
    {
     "name": "stderr",
     "output_type": "stream",
     "text": [
      "100%|██████████| 48/48 [00:41<00:00,  1.16it/s]\n",
      "100%|██████████| 16/16 [00:13<00:00,  1.20it/s]"
     ]
    },
    {
     "name": "stdout",
     "output_type": "stream",
     "text": [
      "The MIA attack has an accuracy of 0.496 on forgotten vs unseen images\n"
     ]
    },
    {
     "name": "stderr",
     "output_type": "stream",
     "text": [
      "\n"
     ]
    }
   ],
   "source": [
    "forget_losses = compute_losses(unlearn_model, forget_ds)\n",
    "test_losses = compute_losses(unlearn_model, test_ds)\n",
    "\n",
    "# Since we have more forget losses than test losses, sub-sample them, to have a class-balanced dataset.\n",
    "np.random.shuffle(forget_losses)\n",
    "forget_losses = forget_losses[:len(test_losses)]\n",
    "\n",
    "samples_mia = np.concatenate((test_losses, forget_losses)).reshape((-1, 1))\n",
    "labels_mia = [0] * len(test_losses) + [1] * len(forget_losses)\n",
    "\n",
    "mia_scores = simple_mia(samples_mia, labels_mia)\n",
    "\n",
    "print(\n",
    "    f\"The MIA attack has an accuracy of {mia_scores.mean():.3f} on forgotten vs unseen images\"\n",
    ")"
   ]
  },
  {
   "cell_type": "code",
   "execution_count": 20,
   "metadata": {},
   "outputs": [],
   "source": [
    "confusion_std=0.06"
   ]
  },
  {
   "cell_type": "code",
   "execution_count": 21,
   "metadata": {},
   "outputs": [
    {
     "name": "stdout",
     "output_type": "stream",
     "text": [
      "352/352 [==============================] - 13s 36ms/step - loss: 0.7688 - accuracy: 0.7449\n",
      "48/48 [==============================] - 2s 32ms/step - loss: 0.8882 - accuracy: 0.7025\n",
      "16/16 [==============================] - 1s 34ms/step - loss: 0.9522 - accuracy: 0.6790\n"
     ]
    }
   ],
   "source": [
    "# Getting back the objects:\n",
    "with open('SNIsA_unconla.pkl', 'rb') as f:\n",
    "    [confusion_stds, accuracy_retain, accuracy_forget, accuracy_test, mia_score] = pickle.load(f)\n",
    "\n",
    "confusion_stds[3].append(confusion_std)\n",
    "accuracy_retain[3].append(unlearn_model.evaluate(retain_ds)[-1])\n",
    "accuracy_forget[3].append(unlearn_model.evaluate(forget_ds)[-1])\n",
    "accuracy_test[3].append(unlearn_model.evaluate(test_ds)[-1])\n",
    "mia_score[3].append(mia_scores.mean())\n",
    "\n",
    "# Saving the objects:\n",
    "with open('SNIsA_unconla.pkl', 'wb') as f:\n",
    "    pickle.dump([confusion_stds, accuracy_retain, accuracy_forget, accuracy_test, mia_score], f)"
   ]
  },
  {
   "cell_type": "code",
   "execution_count": 26,
   "metadata": {},
   "outputs": [
    {
     "data": {
      "image/png": "[encoded data removed]",
      "text/plain": [
       "<Figure size 640x480 with 1 Axes>"
      ]
     },
     "metadata": {},
     "output_type": "display_data"
    }
   ],
   "source": [
    "plt.plot(confusion_stds[0], accuracy_retain[0], label='Retain Accuracy')\n",
    "plt.plot(confusion_stds[0], accuracy_forget[0], label='Forget Accuracy')\n",
    "plt.plot(confusion_stds[0], accuracy_test[0], label='Test Accuracy')\n",
    "plt.plot(confusion_stds[0], mia_score[0], label='MIA Score')\n",
    "\n",
    "plt.xlabel('STD of confusion')\n",
    "plt.ylabel('Scores')\n",
    "plt.title('Accuracies and MIA Score vs. STD of confusion')\n",
    "plt.legend()\n",
    "plt.grid(True)\n",
    "plt.gca().set_ylim(0.45,1)\n",
    "plt.show()"
   ]
  },
  {
   "cell_type": "code",
   "execution_count": null,
   "metadata": {},
   "outputs": [],
   "source": [
    "\"\"\" c=[[],[],[],[]]\n",
    "accuracy_retain=[[],[],[],[]]\n",
    "accuracy_forget=[[],[],[],[]]\n",
    "accuracy_test=[[],[],[],[]]\n",
    "mia_score=[[],[],[],[]]\n",
    "\n",
    "# Saving the objects:\n",
    "with open('SNIsA_unconla.pkl', 'wb') as f:\n",
    "    pickle.dump([confusion_stds, accuracy_retain, accuracy_forget, accuracy_test, mia_score], f) \"\"\""
   ]
  }
 ],
 "metadata": {
  "kernelspec": {
   "display_name": "py310",
   "language": "python",
   "name": "python3"
  },
  "language_info": {
   "codemirror_mode": {
    "name": "ipython",
    "version": 3
   },
   "file_extension": ".py",
   "mimetype": "text/x-python",
   "name": "python",
   "nbconvert_exporter": "python",
   "pygments_lexer": "ipython3",
   "version": "3.10.14"
  }
 },
 "nbformat": 4,
 "nbformat_minor": 2
}
