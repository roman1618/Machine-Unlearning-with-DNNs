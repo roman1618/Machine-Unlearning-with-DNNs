{
 "cells": [
  {
   "cell_type": "markdown",
   "metadata": {},
   "source": [
    "### 🎯 Unlearning by Reseting Layers\n",
    "Vamos a entrenar un ensablado de modelos ResNet18 y evaluar la eficacia de un MIA cuando reentrenamos los modelos partiendo de un modelo base con ciertas capas reinicializadas. Estudiamos primero el caso de un único modelo reentrenado."
   ]
  },
  {
   "cell_type": "code",
   "execution_count": 1,
   "metadata": {},
   "outputs": [
    {
     "name": "stdout",
     "output_type": "stream",
     "text": [
      "Using TensorFlow backend\n"
     ]
    }
   ],
   "source": [
    "import os\n",
    "import warnings\n",
    "import numpy as np\n",
    "import pandas as pd\n",
    "from tqdm import tqdm\n",
    "from matplotlib import pyplot as plt\n",
    "from sklearn import linear_model, model_selection\n",
    "import pickle\n",
    "\n",
    "# Suppress warnings and TensorFlow logs\n",
    "warnings.simplefilter(action=\"ignore\")\n",
    "os.environ[\"TF_CPP_MIN_LOG_LEVEL\"] = \"3\"\n",
    "\n",
    "import tensorflow as tf\n",
    "from tensorflow import keras\n",
    "from tensorflow.keras import layers, losses, optimizers, metrics\n",
    "from tensorflow.keras.utils import split_dataset\n",
    "from tensorflow.python.client import device_lib\n",
    "\n",
    "import keras_cv as kcv\n",
    "from keras_cv import visualization\n",
    "from keras_cv.models import ResNet18Backbone"
   ]
  },
  {
   "cell_type": "code",
   "execution_count": 2,
   "metadata": {},
   "outputs": [],
   "source": [
    "def set_device(mixed_precision=True, set_jit=False):\n",
    "    # printed out the detected devices\n",
    "    list_ld = device_lib.list_local_devices()\n",
    "    for dev in list_ld:\n",
    "        print(dev.name,dev.memory_limit)\n",
    "\n",
    "    # get the lisf of physical devices\n",
    "    physical_devices = tf.config.list_physical_devices(\n",
    "        'GPU' if len(list_ld) - 1 else 'CPU'\n",
    "    )\n",
    "    # For GPU devices, configure related stuff\n",
    "    if 'GPU' in physical_devices[-1]:\n",
    "        tf.config.optimizer.set_jit(set_jit)\n",
    "        if mixed_precision:\n",
    "            keras.mixed_precision.set_global_policy(\n",
    "                \"mixed_float16\"\n",
    "            )\n",
    "        else:\n",
    "            keras.mixed_precision.set_global_policy(\n",
    "                keras.backend.floatx()\n",
    "            )\n",
    "        for pd in physical_devices:\n",
    "            tf.config.experimental.set_memory_growth(\n",
    "                pd, True\n",
    "            )\n",
    "    strategy = tf.distribute.MirroredStrategy()\n",
    "    return (strategy, physical_devices)"
   ]
  },
  {
   "cell_type": "code",
   "execution_count": 3,
   "metadata": {},
   "outputs": [
    {
     "name": "stdout",
     "output_type": "stream",
     "text": [
      "/device:CPU:0 268435456\n",
      "/device:GPU:0 4254072832\n",
      "INFO:tensorflow:Mixed precision compatibility check (mixed_float16): OK\n",
      "Your GPU will likely run quickly with dtype policy mixed_float16 as it has compute capability of at least 7.0. Your GPU: NVIDIA GeForce RTX 2060, compute capability 7.5\n",
      "INFO:tensorflow:Using MirroredStrategy with devices ('/job:localhost/replica:0/task:0/device:GPU:0',)\n"
     ]
    },
    {
     "data": {
      "text/plain": [
       "([PhysicalDevice(name='/physical_device:GPU:0', device_type='GPU')],\n",
       " <tensorflow.python.distribute.mirrored_strategy.MirroredStrategy at 0x7fd75b25d870>,\n",
       " '2.15.1')"
      ]
     },
     "execution_count": 3,
     "metadata": {},
     "output_type": "execute_result"
    }
   ],
   "source": [
    "strategy, physical_devices = set_device(mixed_precision=True, set_jit=True)\n",
    "physical_devices, strategy, tf.__version__"
   ]
  },
  {
   "cell_type": "markdown",
   "metadata": {},
   "source": [
    "___\n",
    "Descargamos y preparamos los datos de CIFAR-10."
   ]
  },
  {
   "cell_type": "code",
   "execution_count": 4,
   "metadata": {},
   "outputs": [],
   "source": [
    "AUTOTUNE = tf.data.AUTOTUNE\n",
    "BATCH_SIZE = 128\n",
    "\n",
    "(x_train, y_train), held_out = keras.datasets.cifar10.load_data()\n",
    "test_set, val_set = split_dataset(held_out, left_size=0.2)"
   ]
  },
  {
   "cell_type": "code",
   "execution_count": 5,
   "metadata": {},
   "outputs": [],
   "source": [
    "def normalize(image, label, denorm=False):\n",
    "    rescale = keras.layers.Rescaling(scale=1./255.)\n",
    "    norms = keras.layers.Normalization(\n",
    "        mean=[0.4914, 0.4822, 0.4465],\n",
    "        variance=[np.square(0.2023), np.square(0.1994), np.square(0.2010)],\n",
    "        invert=denorm,\n",
    "        axis=-1,\n",
    "    )\n",
    "\n",
    "    if not denorm:\n",
    "        image = rescale(image)\n",
    "    return norms(image), label"
   ]
  },
  {
   "cell_type": "code",
   "execution_count": 6,
   "metadata": {},
   "outputs": [],
   "source": [
    "# Esta función divide el conjunto de datos (no convertidos en un Dataset) en 'S' trozos de igual tamaño,\n",
    "# proporcionando también los conjuntos a olvidar y retener\n",
    "\n",
    "def sliced_ds_raw(x,y,S):\n",
    "    x_slices = []\n",
    "    y_slices = []\n",
    "    ft_set_x=[]\n",
    "    ft_set_y=[]\n",
    "    rt_set_x=[]\n",
    "    rt_set_y=[]\n",
    "\n",
    "    # Calculate the size of each slice\n",
    "    slice_size = x.shape[0] // S\n",
    "    forget_size = slice_size // 10\n",
    "\n",
    "    for i in range(S):\n",
    "        start_index = i * slice_size\n",
    "        end_index = start_index + slice_size\n",
    "        x_slices.append(x[start_index:end_index])\n",
    "        y_slices.append(y[start_index:end_index])\n",
    "        ft_set_x.append(x[start_index:start_index+forget_size])\n",
    "        ft_set_y.append(y[start_index:start_index+forget_size])\n",
    "        rt_set_x.append(x[start_index+forget_size:end_index])\n",
    "        rt_set_y.append(y[start_index+forget_size:end_index])\n",
    "\n",
    "    return x_slices, y_slices, ft_set_x, ft_set_y, rt_set_x, rt_set_y"
   ]
  },
  {
   "cell_type": "code",
   "execution_count": 7,
   "metadata": {},
   "outputs": [],
   "source": [
    "train_ds = tf.data.Dataset.from_tensor_slices((x_train, y_train))\n",
    "\n",
    "train_ds = train_ds.map(normalize)\n",
    "train_ds = train_ds.shuffle(buffer_size=8*BATCH_SIZE)\n",
    "train_ds = train_ds.batch(BATCH_SIZE).prefetch(AUTOTUNE)\n",
    "\n",
    "val_ds = val_set.map(normalize).batch(BATCH_SIZE).prefetch(AUTOTUNE)\n",
    "test_ds = test_set.map(normalize).batch(BATCH_SIZE).prefetch(AUTOTUNE)"
   ]
  },
  {
   "cell_type": "code",
   "execution_count": 8,
   "metadata": {},
   "outputs": [
    {
     "name": "stdout",
     "output_type": "stream",
     "text": [
      "A olvidar: 5000 , a retener: 45000\n"
     ]
    }
   ],
   "source": [
    "forget_set, retain_set = keras.utils.split_dataset(train_ds.unbatch(), left_size=0.1)\n",
    "forget_ds = forget_set.batch(BATCH_SIZE).prefetch(AUTOTUNE)\n",
    "retain_ds = retain_set.batch(BATCH_SIZE).prefetch(AUTOTUNE)\n",
    "print('A olvidar:', int(forget_set.cardinality()),', a retener:', int(retain_set.cardinality()))"
   ]
  },
  {
   "cell_type": "markdown",
   "metadata": {},
   "source": [
    "___\n",
    "Descargamos el modelo ResNet18, y lo entrenamos habiendo reinicializado ciertas capas."
   ]
  },
  {
   "cell_type": "code",
   "execution_count": 9,
   "metadata": {},
   "outputs": [],
   "source": [
    "def get_model():\n",
    "    with strategy.scope():\n",
    "        model = keras.Sequential(\n",
    "            [\n",
    "                ResNet18Backbone(include_rescaling=False, input_shape=(32, 32, 3)),\n",
    "                keras.layers.GlobalMaxPooling2D(),\n",
    "                keras.layers.Dense(10, activation=\"softmax\", dtype=tf.float32),\n",
    "            ]\n",
    "        )\n",
    "        model.compile(\n",
    "            optimizer='adam',\n",
    "            loss='sparse_categorical_crossentropy',\n",
    "            metrics=metrics.SparseCategoricalAccuracy(name='accuracy'),\n",
    "            jit_compile=True\n",
    "        )\n",
    "\n",
    "    return model"
   ]
  },
  {
   "cell_type": "code",
   "execution_count": 10,
   "metadata": {},
   "outputs": [
    {
     "name": "stdout",
     "output_type": "stream",
     "text": [
      "Model: \"full_model\"\n",
      "_________________________________________________________________\n",
      " Layer (type)                Output Shape              Param #   \n",
      "=================================================================\n",
      " res_net_backbone (ResNetBa  (None, 1, 1, 512)         11186112  \n",
      " ckbone)                                                         \n",
      "|¯¯¯¯¯¯¯¯¯¯¯¯¯¯¯¯¯¯¯¯¯¯¯¯¯¯¯¯¯¯¯¯¯¯¯¯¯¯¯¯¯¯¯¯¯¯¯¯¯¯¯¯¯¯¯¯¯¯¯¯¯¯¯|\n",
      "| input_1 (InputLayer)       [(None, 32, 32, 3)]       0        |\n",
      "|                                                               |\n",
      "| conv1_conv (Conv2D)        (None, 16, 16, 64)        9408     |\n",
      "|                                                               |\n",
      "| conv1_bn (BatchNormalizat  (None, 16, 16, 64)        256      |\n",
      "| ion)                                                          |\n",
      "|                                                               |\n",
      "| conv1_relu (Activation)    (None, 16, 16, 64)        0        |\n",
      "|                                                               |\n",
      "| pool1_pool (MaxPooling2D)  (None, 8, 8, 64)          0        |\n",
      "|                                                               |\n",
      "| v2_stack_0_block1_1_conv   (None, 8, 8, 64)          36864    |\n",
      "| (Conv2D)                                                      |\n",
      "|                                                               |\n",
      "| v2_stack_0_block1_1_bn (B  (None, 8, 8, 64)          256      |\n",
      "| atchNormalization)                                            |\n",
      "|                                                               |\n",
      "| v2_stack_0_block1_1_relu   (None, 8, 8, 64)          0        |\n",
      "| (Activation)                                                  |\n",
      "|                                                               |\n",
      "| v2_stack_0_block1_2_conv   (None, 8, 8, 64)          36864    |\n",
      "| (Conv2D)                                                      |\n",
      "|                                                               |\n",
      "| v2_stack_0_block1_2_bn (B  (None, 8, 8, 64)          256      |\n",
      "| atchNormalization)                                            |\n",
      "|                                                               |\n",
      "| v2_stack_0_block1_add (Ad  (None, 8, 8, 64)          0        |\n",
      "| d)                                                            |\n",
      "|                                                               |\n",
      "| v2_stack_0_block1_out (Ac  (None, 8, 8, 64)          0        |\n",
      "| tivation)                                                     |\n",
      "|                                                               |\n",
      "| v2_stack_0_block2_1_conv   (None, 8, 8, 64)          36864    |\n",
      "| (Conv2D)                                                      |\n",
      "|                                                               |\n",
      "| v2_stack_0_block2_1_bn (B  (None, 8, 8, 64)          256      |\n",
      "| atchNormalization)                                            |\n",
      "|                                                               |\n",
      "| v2_stack_0_block2_1_relu   (None, 8, 8, 64)          0        |\n",
      "| (Activation)                                                  |\n",
      "|                                                               |\n",
      "| v2_stack_0_block2_2_conv   (None, 8, 8, 64)          36864    |\n",
      "| (Conv2D)                                                      |\n",
      "|                                                               |\n",
      "| v2_stack_0_block2_2_bn (B  (None, 8, 8, 64)          256      |\n",
      "| atchNormalization)                                            |\n",
      "|                                                               |\n",
      "| v2_stack_0_block2_add (Ad  (None, 8, 8, 64)          0        |\n",
      "| d)                                                            |\n",
      "|                                                               |\n",
      "| v2_stack_0_block2_out (Ac  (None, 8, 8, 64)          0        |\n",
      "| tivation)                                                     |\n",
      "|                                                               |\n",
      "| v2_stack_1_block1_1_conv   (None, 4, 4, 128)         73728    |\n",
      "| (Conv2D)                                                      |\n",
      "|                                                               |\n",
      "| v2_stack_1_block1_1_bn (B  (None, 4, 4, 128)         512      |\n",
      "| atchNormalization)                                            |\n",
      "|                                                               |\n",
      "| v2_stack_1_block1_1_relu   (None, 4, 4, 128)         0        |\n",
      "| (Activation)                                                  |\n",
      "|                                                               |\n",
      "| v2_stack_1_block1_0_conv   (None, 4, 4, 128)         8192     |\n",
      "| (Conv2D)                                                      |\n",
      "|                                                               |\n",
      "| v2_stack_1_block1_2_conv   (None, 4, 4, 128)         147456   |\n",
      "| (Conv2D)                                                      |\n",
      "|                                                               |\n",
      "| v2_stack_1_block1_0_bn (B  (None, 4, 4, 128)         512      |\n",
      "| atchNormalization)                                            |\n",
      "|                                                               |\n",
      "| v2_stack_1_block1_2_bn (B  (None, 4, 4, 128)         512      |\n",
      "| atchNormalization)                                            |\n",
      "|                                                               |\n",
      "| v2_stack_1_block1_add (Ad  (None, 4, 4, 128)         0        |\n",
      "| d)                                                            |\n",
      "|                                                               |\n",
      "| v2_stack_1_block1_out (Ac  (None, 4, 4, 128)         0        |\n",
      "| tivation)                                                     |\n",
      "|                                                               |\n",
      "| v2_stack_1_block2_1_conv   (None, 4, 4, 128)         147456   |\n",
      "| (Conv2D)                                                      |\n",
      "|                                                               |\n",
      "| v2_stack_1_block2_1_bn (B  (None, 4, 4, 128)         512      |\n",
      "| atchNormalization)                                            |\n",
      "|                                                               |\n",
      "| v2_stack_1_block2_1_relu   (None, 4, 4, 128)         0        |\n",
      "| (Activation)                                                  |\n",
      "|                                                               |\n",
      "| v2_stack_1_block2_2_conv   (None, 4, 4, 128)         147456   |\n",
      "| (Conv2D)                                                      |\n",
      "|                                                               |\n",
      "| v2_stack_1_block2_2_bn (B  (None, 4, 4, 128)         512      |\n",
      "| atchNormalization)                                            |\n",
      "|                                                               |\n",
      "| v2_stack_1_block2_add (Ad  (None, 4, 4, 128)         0        |\n",
      "| d)                                                            |\n",
      "|                                                               |\n",
      "| v2_stack_1_block2_out (Ac  (None, 4, 4, 128)         0        |\n",
      "| tivation)                                                     |\n",
      "|                                                               |\n",
      "| v2_stack_2_block1_1_conv   (None, 2, 2, 256)         294912   |\n",
      "| (Conv2D)                                                      |\n",
      "|                                                               |\n",
      "| v2_stack_2_block1_1_bn (B  (None, 2, 2, 256)         1024     |\n",
      "| atchNormalization)                                            |\n",
      "|                                                               |\n",
      "| v2_stack_2_block1_1_relu   (None, 2, 2, 256)         0        |\n",
      "| (Activation)                                                  |\n",
      "|                                                               |\n",
      "| v2_stack_2_block1_0_conv   (None, 2, 2, 256)         32768    |\n",
      "| (Conv2D)                                                      |\n",
      "|                                                               |\n",
      "| v2_stack_2_block1_2_conv   (None, 2, 2, 256)         589824   |\n",
      "| (Conv2D)                                                      |\n",
      "|                                                               |\n",
      "| v2_stack_2_block1_0_bn (B  (None, 2, 2, 256)         1024     |\n",
      "| atchNormalization)                                            |\n",
      "|                                                               |\n",
      "| v2_stack_2_block1_2_bn (B  (None, 2, 2, 256)         1024     |\n",
      "| atchNormalization)                                            |\n",
      "|                                                               |\n",
      "| v2_stack_2_block1_add (Ad  (None, 2, 2, 256)         0        |\n",
      "| d)                                                            |\n",
      "|                                                               |\n",
      "| v2_stack_2_block1_out (Ac  (None, 2, 2, 256)         0        |\n",
      "| tivation)                                                     |\n",
      "|                                                               |\n",
      "| v2_stack_2_block2_1_conv   (None, 2, 2, 256)         589824   |\n",
      "| (Conv2D)                                                      |\n",
      "|                                                               |\n",
      "| v2_stack_2_block2_1_bn (B  (None, 2, 2, 256)         1024     |\n",
      "| atchNormalization)                                            |\n",
      "|                                                               |\n",
      "| v2_stack_2_block2_1_relu   (None, 2, 2, 256)         0        |\n",
      "| (Activation)                                                  |\n",
      "|                                                               |\n",
      "| v2_stack_2_block2_2_conv   (None, 2, 2, 256)         589824   |\n",
      "| (Conv2D)                                                      |\n",
      "|                                                               |\n",
      "| v2_stack_2_block2_2_bn (B  (None, 2, 2, 256)         1024     |\n",
      "| atchNormalization)                                            |\n",
      "|                                                               |\n",
      "| v2_stack_2_block2_add (Ad  (None, 2, 2, 256)         0        |\n",
      "| d)                                                            |\n",
      "|                                                               |\n",
      "| v2_stack_2_block2_out (Ac  (None, 2, 2, 256)         0        |\n",
      "| tivation)                                                     |\n",
      "|                                                               |\n",
      "| v2_stack_3_block1_1_conv   (None, 1, 1, 512)         1179648  |\n",
      "| (Conv2D)                                                      |\n",
      "|                                                               |\n",
      "| v2_stack_3_block1_1_bn (B  (None, 1, 1, 512)         2048     |\n",
      "| atchNormalization)                                            |\n",
      "|                                                               |\n",
      "| v2_stack_3_block1_1_relu   (None, 1, 1, 512)         0        |\n",
      "| (Activation)                                                  |\n",
      "|                                                               |\n",
      "| v2_stack_3_block1_0_conv   (None, 1, 1, 512)         131072   |\n",
      "| (Conv2D)                                                      |\n",
      "|                                                               |\n",
      "| v2_stack_3_block1_2_conv   (None, 1, 1, 512)         2359296  |\n",
      "| (Conv2D)                                                      |\n",
      "|                                                               |\n",
      "| v2_stack_3_block1_0_bn (B  (None, 1, 1, 512)         2048     |\n",
      "| atchNormalization)                                            |\n",
      "|                                                               |\n",
      "| v2_stack_3_block1_2_bn (B  (None, 1, 1, 512)         2048     |\n",
      "| atchNormalization)                                            |\n",
      "|                                                               |\n",
      "| v2_stack_3_block1_add (Ad  (None, 1, 1, 512)         0        |\n",
      "| d)                                                            |\n",
      "|                                                               |\n",
      "| v2_stack_3_block1_out (Ac  (None, 1, 1, 512)         0        |\n",
      "| tivation)                                                     |\n",
      "|                                                               |\n",
      "| v2_stack_3_block2_1_conv   (None, 1, 1, 512)         2359296  |\n",
      "| (Conv2D)                                                      |\n",
      "|                                                               |\n",
      "| v2_stack_3_block2_1_bn (B  (None, 1, 1, 512)         2048     |\n",
      "| atchNormalization)                                            |\n",
      "|                                                               |\n",
      "| v2_stack_3_block2_1_relu   (None, 1, 1, 512)         0        |\n",
      "| (Activation)                                                  |\n",
      "|                                                               |\n",
      "| v2_stack_3_block2_2_conv   (None, 1, 1, 512)         2359296  |\n",
      "| (Conv2D)                                                      |\n",
      "|                                                               |\n",
      "| v2_stack_3_block2_2_bn (B  (None, 1, 1, 512)         2048     |\n",
      "| atchNormalization)                                            |\n",
      "|                                                               |\n",
      "| v2_stack_3_block2_add (Ad  (None, 1, 1, 512)         0        |\n",
      "| d)                                                            |\n",
      "|                                                               |\n",
      "| v2_stack_3_block2_out (Ac  (None, 1, 1, 512)         0        |\n",
      "| tivation)                                                     |\n",
      "¯¯¯¯¯¯¯¯¯¯¯¯¯¯¯¯¯¯¯¯¯¯¯¯¯¯¯¯¯¯¯¯¯¯¯¯¯¯¯¯¯¯¯¯¯¯¯¯¯¯¯¯¯¯¯¯¯¯¯¯¯¯¯¯¯\n",
      " global_max_pooling2d (Glob  (None, 512)               0         \n",
      " alMaxPooling2D)                                                 \n",
      "                                                                 \n",
      " dense (Dense)               (None, 10)                5130      \n",
      "                                                                 \n",
      "=================================================================\n",
      "Total params: 11191242 (42.69 MB)\n",
      "Trainable params: 11181642 (42.65 MB)\n",
      "Non-trainable params: 9600 (37.50 KB)\n",
      "_________________________________________________________________\n"
     ]
    }
   ],
   "source": [
    "model = keras.saving.load_model('resnet18_cifar10.keras')\n",
    "for layer in model.layers:\n",
    "    layer._name=layer.name.removesuffix('_full') \n",
    "model.summary(expand_nested=True)"
   ]
  },
  {
   "cell_type": "code",
   "execution_count": 11,
   "metadata": {},
   "outputs": [
    {
     "name": "stdout",
     "output_type": "stream",
     "text": [
      " 22/391 [>.............................] - ETA: 2s - loss: 0.0971 - accuracy: 0.9663 "
     ]
    },
    {
     "name": "stderr",
     "output_type": "stream",
     "text": [
      "WARNING: All log messages before absl::InitializeLog() is called are written to STDERR\n",
      "I0000 00:00:1718273994.095811   43406 device_compiler.h:186] Compiled cluster using XLA!  This line is logged at most once for the lifetime of the process.\n"
     ]
    },
    {
     "name": "stdout",
     "output_type": "stream",
     "text": [
      "391/391 [==============================] - 23s 31ms/step - loss: 0.0923 - accuracy: 0.9690\n",
      "Train set accuracy: 96.9%%\n",
      "352/352 [==============================] - 11s 30ms/step - loss: 0.0918 - accuracy: 0.9692\n",
      "Retain set accuracy: 96.9%%\n",
      "40/40 [==============================] - 8s 215ms/step - loss: 0.0971 - accuracy: 0.9678\n",
      "Forget set accuracy: 96.8%%\n",
      "16/16 [==============================] - 0s 7ms/step - loss: 1.3440 - accuracy: 0.7450\n",
      "Test set accuracy: 74.5%%\n"
     ]
    }
   ],
   "source": [
    "# Análisis de la exactitud en el conjunto de datos\n",
    "print(f\"Train set accuracy: {100.0 * model.evaluate(train_ds)[-1]:0.1f}%%\")\n",
    "print(f\"Retain set accuracy: {100.0 * model.evaluate(retain_ds)[-1]:0.1f}%%\")\n",
    "print(f\"Forget set accuracy: {100.0 * model.evaluate(forget_ds)[-1]:0.1f}%%\")\n",
    "print(f\"Test set accuracy: {100.0 * model.evaluate(test_ds)[-1]:0.1f}%%\")"
   ]
  },
  {
   "cell_type": "markdown",
   "metadata": {},
   "source": [
    "___\n",
    "Reinicialización de capas."
   ]
  },
  {
   "cell_type": "code",
   "execution_count": 12,
   "metadata": {},
   "outputs": [],
   "source": [
    "# Function to reinitialize specific layer weights using their original initializers\n",
    "def reinitialize_layer_weights(layer):\n",
    "    if hasattr(layer, 'kernel_initializer'):\n",
    "        # Reinitialize kernel using its initializer\n",
    "        new_weights = layer.kernel_initializer(layer.kernel.shape)\n",
    "        if hasattr(layer, 'bias') and layer.bias is not None:\n",
    "            # Reinitialize bias if it exists\n",
    "            new_biases = layer.bias_initializer(layer.bias.shape)\n",
    "            layer.set_weights([new_weights, new_biases])\n",
    "        else:\n",
    "            layer.set_weights([new_weights])\n",
    "        print(f\"Layer '{layer.name}' weights reinitialized.\")\n",
    "    elif hasattr(layer, 'layers'):\n",
    "        # Recursively apply to nested layers\n",
    "        for nested_layer in layer.layers:\n",
    "            reinitialize_layer_weights(nested_layer)\n",
    "    else:\n",
    "        print(f\"Layer '{layer.name}' does not have initializers or nested layers.\")\n",
    "\n",
    "# Function to find and reinitialize a specific layer by name\n",
    "def reinitialize_named_layer_weights(model, layer_name):\n",
    "    for layer in model.layers:\n",
    "        if layer.name == layer_name:\n",
    "            reinitialize_layer_weights(layer)\n",
    "            return\n",
    "        elif hasattr(layer, 'layers'):\n",
    "            for nested_layer in layer.layers:\n",
    "                if nested_layer.name == layer_name:\n",
    "                    reinitialize_layer_weights(nested_layer)\n",
    "                    return\n",
    "    print(f\"Layer '{layer_name}' not found.\")"
   ]
  },
  {
   "cell_type": "code",
   "execution_count": 34,
   "metadata": {},
   "outputs": [],
   "source": [
    "unlearn_model = tf.keras.models.clone_model(model)\n",
    "unlearn_model.set_weights(model.get_weights())\n",
    "unlearn_model.compile(\n",
    "        optimizer='adam',\n",
    "        loss='sparse_categorical_crossentropy',\n",
    "        metrics=metrics.SparseCategoricalAccuracy(name='accuracy'),\n",
    "        jit_compile=True\n",
    "    )"
   ]
  },
  {
   "cell_type": "code",
   "execution_count": 35,
   "metadata": {},
   "outputs": [
    {
     "name": "stdout",
     "output_type": "stream",
     "text": [
      "Layer 'conv1_conv' weights reinitialized.\n",
      "Layer 'dense' weights reinitialized.\n"
     ]
    }
   ],
   "source": [
    "reinitialize_named_layer_weights(unlearn_model, 'conv1_conv')\n",
    "reinitialize_named_layer_weights(unlearn_model, 'dense')\n",
    "\n",
    "# reinitialize_named_layer_weights(unlearn_model, 'v2_stack_3_block1_2_conv')"
   ]
  },
  {
   "cell_type": "code",
   "execution_count": 15,
   "metadata": {},
   "outputs": [],
   "source": [
    "def compare_weights(model1,model2):\n",
    "    # Extract the 'res_net_backbone' layer\n",
    "    res_net_backbone = model1.get_layer('res_net_backbone')\n",
    "    backbone_layer_weights = [layer.get_weights() for layer in res_net_backbone.layers if layer.count_params() > 0 and not layer.name.endswith('_bn')]\n",
    "\n",
    "    # Extract layer names and weights for the entire model\n",
    "    layer_names = [layer.name for layer in model1.layers]\n",
    "    layer_weights = [layer.get_weights() for layer in model1.layers]\n",
    "\n",
    "    model1_weights = []\n",
    "\n",
    "    for name, weights in zip(layer_names, layer_weights):\n",
    "        if name == 'res_net_backbone':\n",
    "            model1_weights.extend(backbone_layer_weights)\n",
    "        elif weights:  # Only add layers that have weights\n",
    "            model1_weights.append(weights)\n",
    "\n",
    "        # Extract the 'res_net_backbone' layer\n",
    "    res_net_backbone = model2.get_layer('res_net_backbone')\n",
    "    backbone_layer_weights = [layer.get_weights() for layer in res_net_backbone.layers if layer.count_params() > 0 and not layer.name.endswith('_bn')]\n",
    "\n",
    "    # Extract layer names and weights for the entire model\n",
    "    layer_names = [layer.name for layer in model2.layers]\n",
    "    layer_weights = [layer.get_weights() for layer in model2.layers]\n",
    "\n",
    "    model2_weights = []\n",
    "\n",
    "    for name, weights in zip(layer_names, layer_weights):\n",
    "        if name == 'res_net_backbone':\n",
    "            model2_weights.extend(backbone_layer_weights)\n",
    "        elif weights:  # Only add layers that have weights\n",
    "            model2_weights.append(weights)\n",
    "\n",
    "    layer_names=['conv1','0_1_1_conv','0_1_2_conv','0_2_1_conv',\n",
    "    '0_2_2_conv','1_1_1_conv','1_1_0_conv','1_1_2_conv','1_2_1_conv',\n",
    "    '1_2_2_conv','2_1_1_conv','2_1_0_conv','2_1_2_conv','2_2_1_conv',\n",
    "    '2_2_2_conv','3_1_1_conv','3_1_0_conv','3_1_2_conv','3_2_1_conv',\n",
    "    '3_2_2_conv','dense_out']\n",
    "\n",
    "    return layer_names, model1_weights, model2_weights"
   ]
  },
  {
   "cell_type": "code",
   "execution_count": 16,
   "metadata": {},
   "outputs": [],
   "source": [
    "from numpy import dot\n",
    "from numpy.linalg import norm\n",
    "import matplotlib.pyplot as plt\n",
    "\n",
    "def flatten_arrays(arrays):\n",
    "    flattened_elements = []\n",
    "    for arr in arrays:\n",
    "        flattened_elements.extend(arr.flatten())\n",
    "    return flattened_elements\n",
    "\n",
    "def cos_sim(a,b):\n",
    "    return dot(a, b)/(norm(a)*norm(b))"
   ]
  },
  {
   "cell_type": "code",
   "execution_count": 36,
   "metadata": {},
   "outputs": [
    {
     "data": {
      "image/png": "[encoded data removed]",
      "text/plain": [
       "<Figure size 1000x600 with 1 Axes>"
      ]
     },
     "metadata": {},
     "output_type": "display_data"
    }
   ],
   "source": [
    "layer_names, model1_wights, model2_weghts = compare_weights(model,unlearn_model)\n",
    "\n",
    "# Initialize list to store cosine similarities\n",
    "similarities = []\n",
    "\n",
    "# Compute cosine similarity for each layer\n",
    "for w1, w2 in zip(model1_wights, model2_weghts):\n",
    "    w1=flatten_arrays(w1)\n",
    "    w2=flatten_arrays(w2)\n",
    "    similarity = cos_sim(w1, w2)\n",
    "    similarities.append(similarity)\n",
    "\n",
    "# Plotting\n",
    "plt.figure(figsize=(10, 6))\n",
    "plt.barh(layer_names, similarities, color='skyblue', capsize=5)\n",
    "plt.xlabel('Similitud coseno')\n",
    "plt.ylabel('Capas')\n",
    "plt.title('Similitud coseno de los parámetros tras la reinicialización')\n",
    "plt.xticks(rotation=45)\n",
    "plt.grid(axis='x', linestyle='--', alpha=0.7)\n",
    "plt.tight_layout()\n",
    "plt.legend()\n",
    "\n",
    "plt.show()"
   ]
  },
  {
   "cell_type": "markdown",
   "metadata": {},
   "source": [
    "___\n",
    "_Fine-tuning_ y análisis del modelo resultante"
   ]
  },
  {
   "cell_type": "code",
   "execution_count": null,
   "metadata": {},
   "outputs": [],
   "source": [
    "import time\n",
    "\n",
    "def kl_loss(student_logits, teacher_logits, temperature=1.0):\n",
    "    # Scale the logits by temperature\n",
    "    student_logits_scaled = student_logits / temperature\n",
    "    teacher_logits_scaled = teacher_logits / temperature\n",
    "    \n",
    "    # Calculate softmax probabilities\n",
    "    student_prob = tf.nn.softmax(student_logits_scaled)\n",
    "    teacher_prob = tf.nn.softmax(teacher_logits_scaled)\n",
    "    \n",
    "    # Calculate KL divergence\n",
    "    kl_div = tf.keras.losses.KLDivergence()(teacher_prob, student_prob)\n",
    "    return kl_div\n",
    "\n",
    "def soft_cross_entropy(preds, soft_targets):\n",
    "    return tf.reduce_mean(\n",
    "        tf.reduce_sum(-soft_targets * tf.nn.log_softmax(preds), axis=1)\n",
    "    )\n",
    "\n",
    "@tf.function\n",
    "def warmup_step(model, teacher_model, optimizer, x, temperature):\n",
    "    start_time = tf.timestamp()\n",
    "    \n",
    "    with tf.GradientTape() as tape:\n",
    "        student_logits = model(x, training=True)\n",
    "        teacher_logits = teacher_model(x, training=False)\n",
    "        loss = kl_loss(student_logits, teacher_logits, temperature)\n",
    "    \n",
    "    grads = tape.gradient(loss, model.trainable_variables)\n",
    "    optimizer.apply_gradients(zip(grads, model.trainable_variables))\n",
    "    \n",
    "    end_time = tf.timestamp()\n",
    "    return loss, end_time - start_time\n",
    "\n",
    "@tf.function\n",
    "def finetune_step(model, teacher_model, optimizer, x, y, temperature, loss_fn):\n",
    "    start_time = tf.timestamp()\n",
    "    \n",
    "    with tf.GradientTape() as tape:\n",
    "        student_logits = model(x, training=True)\n",
    "        teacher_logits = teacher_model(x, training=False)\n",
    "        soft_labels = tf.nn.softmax(teacher_logits / temperature)\n",
    "        soft_predictions = tf.nn.log_softmax(student_logits / temperature)\n",
    "        \n",
    "        loss = soft_cross_entropy(soft_predictions, soft_labels)\n",
    "        loss += loss_fn(y, student_logits)\n",
    "        loss += kl_loss(student_logits, teacher_logits, temperature)\n",
    "    \n",
    "    grads = tape.gradient(loss, model.trainable_variables)\n",
    "    optimizer.apply_gradients(zip(grads, model.trainable_variables))\n",
    "    \n",
    "    end_time = tf.timestamp()\n",
    "    return loss, end_time - start_time\n",
    "\n",
    "def unlearning(model, teacher_model, retain_ds, val_ds, temperature=1.0, epochs=3):\n",
    "    optimizer = tf.keras.optimizers.SGD(learning_rate=1e-3, momentum=0.9, weight_decay=5e-4)\n",
    "    loss_fn = tf.keras.losses.SparseCategoricalCrossentropy(from_logits=True)\n",
    "    \n",
    "    teacher_model.trainable = False\n",
    "    \n",
    "    # Warm-up phase\n",
    "    print(\"Starting warm-up phase...\")\n",
    "    for epoch in range(epochs):\n",
    "        start_time_epoch = time.time()\n",
    "        for batch, (x, y) in enumerate(val_ds):\n",
    "            total_batches = tf.data.experimental.cardinality(val_ds).numpy()\n",
    "            loss, batch_time = warmup_step(model, teacher_model, optimizer, x, temperature)\n",
    "            # print(f\"Epoch {epoch+1}, Batch {batch+1}/{total_batches}, Loss: {loss.numpy():.4f}, Time: {batch_time.numpy():.4f} sec\")\n",
    "        print(f\"Time taken for epoch {epoch+1}: {time.time() - start_time_epoch:.2f} sec\")\n",
    "    \n",
    "    # Fine-tuning phase\n",
    "    scheduler = tf.keras.optimizers.schedules.CosineDecay(1e-3, decay_steps=epochs)\n",
    "    optimizer.learning_rate = scheduler\n",
    "\n",
    "    print(\"Starting fine-tuning phase...\")\n",
    "    for epoch in range(epochs):\n",
    "        start_time_epoch = time.time()\n",
    "        for batch, (x, y) in enumerate(retain_ds):\n",
    "            total_batches = tf.data.experimental.cardinality(retain_ds).numpy()\n",
    "            loss, batch_time = finetune_step(model, teacher_model, optimizer, x, y, temperature, loss_fn)\n",
    "            # print(f\"Epoch {epoch+1}, Batch {batch+1}/{total_batches}, Loss: {loss.numpy():.4f}, Time: {batch_time.numpy():.4f} sec\")\n",
    "        print(f\"Time taken for epoch {epoch+1}: {time.time() - start_time_epoch:.2f} sec\")\n",
    "\n",
    "    model.trainable = True"
   ]
  },
  {
   "cell_type": "code",
   "execution_count": null,
   "metadata": {},
   "outputs": [],
   "source": [
    "unlearning(unlearn_model, model, retain_ds, val_ds, temperature=1.0, epochs=20)"
   ]
  },
  {
   "cell_type": "code",
   "execution_count": 18,
   "metadata": {},
   "outputs": [
    {
     "name": "stdout",
     "output_type": "stream",
     "text": [
      "Epoch 1/5\n",
      "  7/352 [..............................] - ETA: 6s - loss: 2.5625 - accuracy: 0.1908   "
     ]
    },
    {
     "name": "stderr",
     "output_type": "stream",
     "text": [
      "W0000 00:00:1718274056.808523   43405 graph_launch.cc:671] Fallback to op-by-op mode because memset node breaks graph update\n"
     ]
    },
    {
     "name": "stdout",
     "output_type": "stream",
     "text": [
      "352/352 [==============================] - 63s 104ms/step - loss: 0.7391 - accuracy: 0.7420 - val_loss: 1.0780 - val_accuracy: 0.7011\n",
      "Epoch 2/5\n",
      "352/352 [==============================] - 5s 16ms/step - loss: 0.1704 - accuracy: 0.9416 - val_loss: 1.2667 - val_accuracy: 0.7044\n",
      "Epoch 3/5\n",
      "352/352 [==============================] - 6s 17ms/step - loss: 0.0980 - accuracy: 0.9661 - val_loss: 1.2755 - val_accuracy: 0.7266\n",
      "Epoch 4/5\n",
      "352/352 [==============================] - 6s 16ms/step - loss: 0.0897 - accuracy: 0.9686 - val_loss: 1.3079 - val_accuracy: 0.7401\n",
      "Epoch 5/5\n",
      "352/352 [==============================] - 7s 20ms/step - loss: 0.0757 - accuracy: 0.9740 - val_loss: 1.4426 - val_accuracy: 0.7311\n"
     ]
    }
   ],
   "source": [
    "unlearn_history=unlearn_model.fit(retain_ds, validation_data=val_ds, epochs=5)"
   ]
  },
  {
   "cell_type": "code",
   "execution_count": 19,
   "metadata": {},
   "outputs": [
    {
     "data": {
      "image/png": "[encoded data removed]",
      "text/plain": [
       "<Figure size 800x500 with 1 Axes>"
      ]
     },
     "metadata": {},
     "output_type": "display_data"
    }
   ],
   "source": [
    "# Análisis del entrenamiento y el modelo\n",
    "\n",
    "pd.DataFrame(unlearn_history.history).plot(figsize=(8,5))\n",
    "plt.grid(True)\n",
    "plt.gca().set_ylim(0,1)\n",
    "plt.show()"
   ]
  },
  {
   "cell_type": "code",
   "execution_count": 38,
   "metadata": {},
   "outputs": [
    {
     "data": {
      "image/png": "[encoded data removed]",
      "text/plain": [
       "<Figure size 800x500 with 1 Axes>"
      ]
     },
     "metadata": {},
     "output_type": "display_data"
    }
   ],
   "source": [
    "# Asumiendo que 'history.history' es un diccionario con los datos del entrenamiento\n",
    "grafica = pd.DataFrame(unlearn_history.history)\n",
    "\n",
    "# Eliminar la columna de 'val_loss' (coste de validación)\n",
    "grafica = grafica.drop(columns=['val_loss'])\n",
    "\n",
    "# Ejemplo: añadir 0 para cada columna en la primera posición\n",
    "valores_iniciales = {'loss': 2.6246, 'accuracy': 0.0968, 'val_accuracy': 0.0956}\n",
    "for key, value in valores_iniciales.items():\n",
    "    grafica[key] = pd.concat([pd.Series([value]), grafica[key]]).reset_index(drop=True)\n",
    "\n",
    "# Graficar el DataFrame\n",
    "grafica.plot(figsize=(8,5))\n",
    "\n",
    "# Configurar propiedades\n",
    "plt.grid(True)\n",
    "plt.gca().set_ylim(0,1)\n",
    "plt.xlabel('Época', fontsize=12)\n",
    "plt.ylabel('Valores', fontsize=12)\n",
    "\n",
    "# Cambiar colores y estilos de líneas\n",
    "plt.gca().get_lines()[0].set_color('#ff4633')\n",
    "plt.gca().get_lines()[1].set_color('springgreen')\n",
    "plt.gca().get_lines()[2].set_color('springgreen')\n",
    "\n",
    "plt.gca().get_lines()[2].set_linestyle('--')\n",
    "\n",
    "plt.legend(['Coste', 'Precisión', 'Precisión Validación'], fontsize=11)\n",
    "plt.title('Evolución del Coste y la Precisión durante el ajuste fino', fontsize=13)\n",
    "\n",
    "plt.show()"
   ]
  },
  {
   "cell_type": "code",
   "execution_count": 37,
   "metadata": {},
   "outputs": [
    {
     "name": "stdout",
     "output_type": "stream",
     "text": [
      "391/391 [==============================] - 8s 14ms/step - loss: 2.6227 - accuracy: 0.0974\n",
      "Train set accuracy: 9.7%%\n",
      "352/352 [==============================] - 4s 11ms/step - loss: 2.6246 - accuracy: 0.0968\n",
      "Retain set accuracy: 9.7%%\n",
      "40/40 [==============================] - 1s 35ms/step - loss: 2.6054 - accuracy: 0.1024\n",
      "Forget set accuracy: 10.2%%\n",
      "63/63 [==============================] - 2s 30ms/step - loss: 2.6238 - accuracy: 0.0956\n",
      "Validation set accuracy: 9.6%%\n",
      "16/16 [==============================] - 0s 8ms/step - loss: 2.6234 - accuracy: 0.1015\n",
      "Test set accuracy: 10.1%%\n"
     ]
    }
   ],
   "source": [
    "# Análisis de la exactitud en el conjunto de datos\n",
    "print(f\"Train set accuracy: {100.0 * unlearn_model.evaluate(train_ds)[-1]:0.1f}%%\")\n",
    "print(f\"Retain set accuracy: {100.0 * unlearn_model.evaluate(retain_ds)[-1]:0.1f}%%\")\n",
    "print(f\"Forget set accuracy: {100.0 * unlearn_model.evaluate(forget_ds)[-1]:0.1f}%%\")\n",
    "print(f\"Validation set accuracy: {100.0 * unlearn_model.evaluate(val_ds)[-1]:0.1f}%%\")\n",
    "print(f\"Test set accuracy: {100.0 * unlearn_model.evaluate(test_ds)[-1]:0.1f}%%\")"
   ]
  },
  {
   "cell_type": "markdown",
   "metadata": {},
   "source": [
    "___\n",
    "Cuantificamos la calidad del algoritmo de desaprendizaje a través de un _membership inference attack_ simple (MIA).\n",
    "\n",
    "Este MIA consiste en un modelo de regresión logística que predice si el modelo fue entrenado en una muestra particular a partir del _loss_ de esa muestra. Para tener una idea de la dificultad de este problema, primero graficamos a continuación un histograma de los _loss_-es del modelo preentrenado en el conjunto de entrenamiento y prueba."
   ]
  },
  {
   "cell_type": "code",
   "execution_count": 21,
   "metadata": {},
   "outputs": [],
   "source": [
    "def compute_losses(net, loader):\n",
    "    \"\"\"Auxiliary function to compute per-sample losses\"\"\"\n",
    "\n",
    "    loss_fn = keras.losses.SparseCategoricalCrossentropy(\n",
    "        reduction=\"none\"\n",
    "    )\n",
    "    all_losses = []\n",
    "\n",
    "    for inputs, targets in tqdm(loader):\n",
    "        logits = net(inputs, training=False)\n",
    "        losses = loss_fn(targets, logits).numpy()\n",
    "        for l in losses:\n",
    "            all_losses.append(l)\n",
    "\n",
    "    return np.array(all_losses)"
   ]
  },
  {
   "cell_type": "code",
   "execution_count": 22,
   "metadata": {},
   "outputs": [],
   "source": [
    "def simple_mia(sample_loss, members, n_splits=10, random_state=0):\n",
    "    \"\"\"Computes cross-validation score of a membership inference attack.\n",
    "\n",
    "    Args:\n",
    "      sample_loss : array_like of shape (n,).\n",
    "        objective function evaluated on n samples.\n",
    "      members : array_like of shape (n,),\n",
    "        whether a sample was used for training.\n",
    "      n_splits: int\n",
    "        number of splits to use in the cross-validation.\n",
    "    Returns:\n",
    "      scores : array_like of size (n_splits,)\n",
    "    \"\"\"\n",
    "\n",
    "    unique_members = np.unique(members)\n",
    "    if not np.all(unique_members == np.array([0, 1])):\n",
    "        raise ValueError(\"members should only have 0 and 1s\")\n",
    "\n",
    "    attack_model = linear_model.LogisticRegression()\n",
    "    cv = model_selection.StratifiedShuffleSplit(\n",
    "        n_splits=n_splits, random_state=random_state\n",
    "    )\n",
    "    return model_selection.cross_val_score(\n",
    "        attack_model, sample_loss, members, cv=cv, scoring=\"accuracy\"\n",
    "    )"
   ]
  },
  {
   "cell_type": "code",
   "execution_count": 23,
   "metadata": {},
   "outputs": [
    {
     "name": "stderr",
     "output_type": "stream",
     "text": [
      "100%|██████████| 391/391 [00:37<00:00, 10.53it/s]\n",
      "100%|██████████| 16/16 [00:01<00:00, 10.88it/s]\n",
      "100%|██████████| 40/40 [00:05<00:00,  7.98it/s]"
     ]
    },
    {
     "name": "stdout",
     "output_type": "stream",
     "text": [
      "The MIA attack has an accuracy of 0.590 on forgotten vs unseen images\n"
     ]
    },
    {
     "name": "stderr",
     "output_type": "stream",
     "text": [
      "\n"
     ]
    }
   ],
   "source": [
    "train_losses = compute_losses(unlearn_model, train_ds)\n",
    "test_losses = compute_losses(unlearn_model, test_ds)\n",
    "forget_losses = compute_losses(unlearn_model, forget_ds)\n",
    "\n",
    "# Since we have more forget losses than test losses, sub-sample them, to have a class-balanced dataset.\n",
    "np.random.shuffle(forget_losses)\n",
    "forget_losses = forget_losses[:len(test_losses)]\n",
    "\n",
    "samples_mia = np.concatenate((test_losses, forget_losses)).reshape((-1, 1))\n",
    "labels_mia = [0] * len(test_losses) + [1] * len(forget_losses)\n",
    "\n",
    "mia_scores = simple_mia(samples_mia, labels_mia)\n",
    "\n",
    "print(\n",
    "    f\"The MIA attack has an accuracy of {mia_scores.mean():.3f} on forgotten vs unseen images\"\n",
    ")"
   ]
  },
  {
   "cell_type": "code",
   "execution_count": null,
   "metadata": {},
   "outputs": [],
   "source": []
  }
 ],
 "metadata": {
  "kernelspec": {
   "display_name": "py310",
   "language": "python",
   "name": "python3"
  },
  "language_info": {
   "codemirror_mode": {
    "name": "ipython",
    "version": 3
   },
   "file_extension": ".py",
   "mimetype": "text/x-python",
   "name": "python",
   "nbconvert_exporter": "python",
   "pygments_lexer": "ipython3",
   "version": "3.10.14"
  }
 },
 "nbformat": 4,
 "nbformat_minor": 2
}
