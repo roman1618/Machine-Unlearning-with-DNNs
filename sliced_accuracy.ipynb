{
 "cells": [
  {
   "cell_type": "code",
   "execution_count": 4,
   "metadata": {},
   "outputs": [],
   "source": [
    "import os\n",
    "import warnings\n",
    "import numpy as np\n",
    "import pandas as pd\n",
    "from tqdm import tqdm\n",
    "from matplotlib import pyplot as plt\n",
    "from sklearn import linear_model, model_selection\n",
    "import pickle\n",
    "\n",
    "# Suppress warnings and TensorFlow logs\n",
    "warnings.simplefilter(action=\"ignore\")\n",
    "os.environ[\"TF_CPP_MIN_LOG_LEVEL\"] = \"3\"\n",
    "\n",
    "import tensorflow as tf\n",
    "from tensorflow import keras\n",
    "from tensorflow.keras import layers, losses, optimizers, metrics\n",
    "from tensorflow.keras.utils import split_dataset\n",
    "from tensorflow.python.client import device_lib\n",
    "\n",
    "import keras_cv as kcv\n",
    "from keras_cv import visualization\n",
    "from keras_cv.models import ResNet18Backbone"
   ]
  },
  {
   "cell_type": "code",
   "execution_count": 5,
   "metadata": {},
   "outputs": [],
   "source": [
    "def set_device(mixed_precision=True, set_jit=False):\n",
    "    # printed out the detected devices\n",
    "    list_ld = device_lib.list_local_devices()\n",
    "    for dev in list_ld:\n",
    "        print(dev.name,dev.memory_limit)\n",
    "\n",
    "    # get the lisf of physical devices\n",
    "    physical_devices = tf.config.list_physical_devices(\n",
    "        'GPU' if len(list_ld) - 1 else 'CPU'\n",
    "    )\n",
    "    # For GPU devices, configure related stuff\n",
    "    if 'GPU' in physical_devices[-1]:\n",
    "        tf.config.optimizer.set_jit(set_jit)\n",
    "        if mixed_precision:\n",
    "            keras.mixed_precision.set_global_policy(\n",
    "                \"mixed_float16\"\n",
    "            )\n",
    "        else:\n",
    "            keras.mixed_precision.set_global_policy(\n",
    "                keras.backend.floatx()\n",
    "            )\n",
    "        for pd in physical_devices:\n",
    "            tf.config.experimental.set_memory_growth(\n",
    "                pd, True\n",
    "            )\n",
    "    strategy = tf.distribute.MirroredStrategy()\n",
    "    return (strategy, physical_devices)"
   ]
  },
  {
   "cell_type": "code",
   "execution_count": 6,
   "metadata": {},
   "outputs": [
    {
     "name": "stdout",
     "output_type": "stream",
     "text": [
      "/device:CPU:0 268435456\n",
      "/device:GPU:0 4254072832\n",
      "INFO:tensorflow:Mixed precision compatibility check (mixed_float16): OK\n",
      "Your GPU will likely run quickly with dtype policy mixed_float16 as it has compute capability of at least 7.0. Your GPU: NVIDIA GeForce RTX 2060, compute capability 7.5\n",
      "INFO:tensorflow:Using MirroredStrategy with devices ('/job:localhost/replica:0/task:0/device:GPU:0',)\n"
     ]
    },
    {
     "data": {
      "text/plain": [
       "([PhysicalDevice(name='/physical_device:GPU:0', device_type='GPU')],\n",
       " <tensorflow.python.distribute.mirrored_strategy.MirroredStrategy at 0x7fe7a00e8070>,\n",
       " '2.15.1')"
      ]
     },
     "execution_count": 6,
     "metadata": {},
     "output_type": "execute_result"
    }
   ],
   "source": [
    "strategy, physical_devices = set_device(mixed_precision=True, set_jit=True)\n",
    "physical_devices, strategy, tf.__version__"
   ]
  },
  {
   "cell_type": "code",
   "execution_count": 7,
   "metadata": {},
   "outputs": [],
   "source": [
    "AUTOTUNE = tf.data.AUTOTUNE\n",
    "BATCH_SIZE = 128\n",
    "\n",
    "(x_train, y_train), held_out = keras.datasets.cifar10.load_data()\n",
    "test_set, val_set = split_dataset(held_out, left_size=0.2)"
   ]
  },
  {
   "cell_type": "code",
   "execution_count": 8,
   "metadata": {},
   "outputs": [],
   "source": [
    "def normalize(image, label, denorm=False):\n",
    "    rescale = keras.layers.Rescaling(scale=1./255.)\n",
    "    norms = keras.layers.Normalization(\n",
    "        mean=[0.4914, 0.4822, 0.4465],\n",
    "        variance=[np.square(0.2023), np.square(0.1994), np.square(0.2010)],\n",
    "        invert=denorm,\n",
    "        axis=-1,\n",
    "    )\n",
    "\n",
    "    if not denorm:\n",
    "        image = rescale(image)\n",
    "    return norms(image), label"
   ]
  },
  {
   "cell_type": "code",
   "execution_count": 9,
   "metadata": {},
   "outputs": [],
   "source": [
    "train_ds = tf.data.Dataset.from_tensor_slices((x_train, y_train))\n",
    "\n",
    "train_ds = train_ds.map(normalize)\n",
    "train_ds = train_ds.shuffle(buffer_size=8*BATCH_SIZE)\n",
    "train_ds = train_ds.batch(BATCH_SIZE).prefetch(AUTOTUNE)\n",
    "\n",
    "val_ds = val_set.map(normalize).batch(BATCH_SIZE).prefetch(AUTOTUNE)\n",
    "test_ds = test_set.map(normalize).batch(BATCH_SIZE).prefetch(AUTOTUNE)"
   ]
  },
  {
   "cell_type": "code",
   "execution_count": 36,
   "metadata": {},
   "outputs": [
    {
     "name": "stderr",
     "output_type": "stream",
     "text": [
      "WARNING:absl:Skipping variable loading for optimizer 'Adam', because it has 125 variables whereas the saved optimizer has 0 variables. \n"
     ]
    }
   ],
   "source": [
    "s=16\n",
    "model = keras.saving.load_model('sliced_models/slice_'+str(s)+'_1.keras')"
   ]
  },
  {
   "cell_type": "code",
   "execution_count": 37,
   "metadata": {},
   "outputs": [
    {
     "name": "stdout",
     "output_type": "stream",
     "text": [
      "391/391 [==============================] - 6s 11ms/step - loss: 3.1277 - accuracy: 0.4806\n",
      "16/16 [==============================] - 0s 9ms/step - loss: 3.2730 - accuracy: 0.4585\n"
     ]
    }
   ],
   "source": [
    "# Getting back the objects:\n",
    "with open('s_acc.pkl', 'rb') as f:\n",
    "    [slices, accuracy_train, accuracy_test] = pickle.load(f)\n",
    "\n",
    "accuracy_train[5]=(accuracy_train[5]+model.evaluate(train_ds)[-1])/2\n",
    "accuracy_test[5]=(accuracy_test[5]+model.evaluate(test_ds)[-1])/2\n",
    "\n",
    "# Saving the objects:\n",
    "with open('s_acc.pkl', 'wb') as f:\n",
    "    pickle.dump([slices, accuracy_train, accuracy_test], f)"
   ]
  },
  {
   "cell_type": "code",
   "execution_count": 38,
   "metadata": {},
   "outputs": [
    {
     "name": "stdout",
     "output_type": "stream",
     "text": [
      "[2, 3, 4, 5, 8, 16]\n",
      "[0.8138300180435181, 0.7426699995994568, 0.6970700025558472, 0.6710599958896637, 0.5592800080776215, 0.4826200008392334]\n",
      "[0.6747500002384186, 0.637499988079071, 0.6040000021457672, 0.5912500023841858, 0.5064999908208847, 0.4519999921321869]\n"
     ]
    }
   ],
   "source": [
    "print(slices)\n",
    "print(accuracy_train)\n",
    "print(accuracy_test)"
   ]
  }
 ],
 "metadata": {
  "kernelspec": {
   "display_name": "py310",
   "language": "python",
   "name": "python3"
  },
  "language_info": {
   "codemirror_mode": {
    "name": "ipython",
    "version": 3
   },
   "file_extension": ".py",
   "mimetype": "text/x-python",
   "name": "python",
   "nbconvert_exporter": "python",
   "pygments_lexer": "ipython3",
   "version": "3.10.14"
  }
 },
 "nbformat": 4,
 "nbformat_minor": 2
}
